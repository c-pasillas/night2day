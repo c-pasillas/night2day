{
 "cells": [
  {
   "cell_type": "code",
   "execution_count": 2,
   "metadata": {},
   "outputs": [],
   "source": [
    "#attempt to run model\n",
    "\n",
    "#import statements\n",
    "import numpy as np\n",
    "import tensorflow as tf\n",
    "import keras\n",
    "from matplotlib import pyplot as plt\n",
    "import numpy as np\n",
    "import gzip\n",
    "import math\n",
    "import tensorflow.keras.layers as layers\n",
    "import pandas as pd\n"
   ]
  },
  {
   "cell_type": "code",
   "execution_count": 4,
   "metadata": {},
   "outputs": [
    {
     "data": {
      "text/plain": [
       "((103387536,), (103387536,))"
      ]
     },
     "execution_count": 4,
     "metadata": {},
     "output_type": "execute_result"
    }
   ],
   "source": [
    "#load data\n",
    "case=np.load('fullcase_norm_M15norm_DNBFMN.npz')\n",
    "case.files\n",
    "\n",
    "#put in predictors and predictands\n",
    "X= case['myarray'][:,:,:,2].flatten()\n",
    "y= case['myarray'][:,:,:,3].flatten()\n",
    "X.shape, y.shape"
   ]
  },
  {
   "cell_type": "code",
   "execution_count": 5,
   "metadata": {},
   "outputs": [
    {
     "data": {
      "text/plain": [
       "((82710028,), (20677508,), (82710028,), (20677508,))"
      ]
     },
     "execution_count": 5,
     "metadata": {},
     "output_type": "execute_result"
    }
   ],
   "source": [
    "#test train split\n",
    "from sklearn.model_selection import train_test_split\n",
    "# Split into training and testing data\n",
    "X_train, X_test, y_train, y_test = train_test_split(X, y, test_size=0.20) #, random_state=random_state)\n",
    "\n",
    "\n",
    "X_train.shape, X_test.shape, y_train.shape, y_test.shape\n",
    "#model"
   ]
  },
  {
   "cell_type": "code",
   "execution_count": 6,
   "metadata": {},
   "outputs": [
    {
     "name": "stdout",
     "output_type": "stream",
     "text": [
      "Device mapping:\n",
      "/job:localhost/replica:0/task:0/device:XLA_CPU:0 -> device: XLA_CPU device\n",
      "/job:localhost/replica:0/task:0/device:GPU:0 -> device: 0, name: Quadro RTX 6000, pci bus id: 0000:1a:00.0, compute capability: 7.5\n",
      "/job:localhost/replica:0/task:0/device:GPU:1 -> device: 1, name: Quadro RTX 6000, pci bus id: 0000:88:00.0, compute capability: 7.5\n",
      "/job:localhost/replica:0/task:0/device:XLA_GPU:0 -> device: XLA_GPU device\n",
      "/job:localhost/replica:0/task:0/device:XLA_GPU:1 -> device: XLA_GPU device\n",
      "\n",
      "Model: \"sequential\"\n",
      "_________________________________________________________________\n",
      "Layer (type)                 Output Shape              Param #   \n",
      "=================================================================\n",
      "dense (Dense)                (None, 36)                72        \n",
      "_________________________________________________________________\n",
      "dense_1 (Dense)              (None, 36)                1332      \n",
      "_________________________________________________________________\n",
      "dense_2 (Dense)              (None, 1)                 37        \n",
      "=================================================================\n",
      "Total params: 1,441\n",
      "Trainable params: 1,441\n",
      "Non-trainable params: 0\n",
      "_________________________________________________________________\n"
     ]
    }
   ],
   "source": [
    "#command for the GPU\n",
    "sess = tf.compat.v1.Session(config=tf.compat.v1.ConfigProto(log_device_placement=True))\n",
    "\n",
    "\n",
    "#add RMSE\n",
    "\n",
    "from keras import backend\n",
    " \n",
    "def rmse(y_true, y_pred):\n",
    "    return backend.sqrt(backend.mean(backend.square(y_pred - y_true), axis=-1))\n",
    "#\n",
    "#number of nodes\n",
    "n_units = 36\n",
    "\n",
    "model = tf.keras.Sequential()\n",
    "# First hidden layer:\n",
    "model.add(layers.Dense(n_units, activation='relu', input_shape=(1,) ))\n",
    "# Second hidden layer:\n",
    "model.add(layers.Dense(n_units, activation='relu'))\n",
    "# Output layer:  just 1 node and no activation function\n",
    "model.add(layers.Dense(1, activation = 'sigmoid'))\n",
    "model.summary()\n",
    "\n",
    "model.compile(optimizer=keras.optimizers.Adam(0.01),  # Adam optimizer\n",
    "            loss='mse',       # mean squared error\n",
    "           metrics=['mae','mse'])  # mean absolute error\n"
   ]
  },
  {
   "cell_type": "code",
   "execution_count": 9,
   "metadata": {},
   "outputs": [
    {
     "name": "stdout",
     "output_type": "stream",
     "text": [
      "Epoch 1/2\n",
      "827101/827101 [==============================] - 1010s 1ms/step - loss: 0.0081 - mae: 0.0678 - mse: 0.0081 - val_loss: 0.0080 - val_mae: 0.0675 - val_mse: 0.0080\n",
      "Epoch 2/2\n",
      "827101/827101 [==============================] - 997s 1ms/step - loss: 0.0081 - mae: 0.0678 - mse: 0.0081 - val_loss: 0.0080 - val_mae: 0.0672 - val_mse: 0.0080\n"
     ]
    }
   ],
   "source": [
    "#load EMA data\n",
    "#case2=np.load('fullcase_norm_M15_DNBFMN.npz')\n",
    "#case2.files\n",
    "#XX= case2['myarray'][:,:,:,2].flatten()\n",
    "#yy= case2['myarray'][:,:,:,3].flatten()\n",
    "\n",
    "n_epochs = 2   # 250\n",
    "history = model.fit(X_train, y_train,validation_data =(X_test,y_test), epochs=n_epochs, batch_size=100)   #validation_split=0.30\n",
    "\n",
    "\n",
    "#pd.DataFrame(history.history).plot(figsize=(8,5))\n",
    "#plt.grid(True)\n",
    "#plt.gca().set_ylim(0,1)\n",
    "#plt.show()"
   ]
  },
  {
   "cell_type": "code",
   "execution_count": 10,
   "metadata": {},
   "outputs": [
    {
     "name": "stdout",
     "output_type": "stream",
     "text": [
      "WARNING:tensorflow:From /usr/local/anaconda3/lib/python3.8/site-packages/tensorflow/python/ops/resource_variable_ops.py:1813: calling BaseResourceVariable.__init__ (from tensorflow.python.ops.resource_variable_ops) with constraint is deprecated and will be removed in a future version.\n",
      "Instructions for updating:\n",
      "If using Keras pass *_constraint arguments to layers.\n",
      "INFO:tensorflow:Assets written to: FNN_attempt2/assets\n"
     ]
    }
   ],
   "source": [
    "model.save('FNN_attempt2')"
   ]
  },
  {
   "cell_type": "code",
   "execution_count": 23,
   "metadata": {},
   "outputs": [
    {
     "name": "stdout",
     "output_type": "stream",
     "text": [
      "[0.39361972] 0.30159146\n",
      "[0.5109839] 0.5419772\n",
      "[0.36021587] 0.44510666\n",
      "[0.34994218] 0.378991\n",
      "[0.4780386] 0.40153235\n",
      "[0.35413992] 0.39145994\n",
      "[0.4686925] 0.35025564\n",
      "[0.50009215] 0.41615564\n",
      "[0.6230278] 0.8105329\n",
      "[0.59496975] 0.5430276\n",
      "[0.4171039] 0.5001536\n",
      "[0.3833452] 0.33199653\n",
      "[0.35671085] 0.33719411\n",
      "[0.49286294] 0.51332283\n",
      "[0.40233973] 0.31971592\n",
      "[0.49805117] 0.3979235\n",
      "[0.3808527] 0.43067163\n",
      "[0.3869659] 0.46840173\n",
      "[0.34968945] 0.31163675\n",
      "[0.40777755] 0.43395716\n",
      "[0.4833294] 0.61439466\n",
      "[0.52505004] 0.45278192\n",
      "[0.3579811] 0.37565145\n",
      "[0.66108423] 0.8247525\n",
      "[0.50748014] 0.38779745\n",
      "[0.5886151] 0.37710592\n",
      "[0.48788336] 0.67485464\n",
      "[0.6425245] 0.77668077\n",
      "[0.5466799] 0.4821905\n",
      "[0.34291205] 0.31637654\n",
      "[0.5762642] 0.6136675\n",
      "[0.40371943] 0.3717735\n",
      "[0.42738912] 0.37710592\n",
      "[0.44305357] 0.39730415\n",
      "[0.3431167] 0.3942879\n",
      "[0.3641234] 0.3699961\n",
      "[0.3457138] 0.3136834\n",
      "[0.44449914] 0.35609984\n",
      "[0.36732313] 0.32122403\n",
      "[0.37091374] 0.385589\n",
      "[0.49156854] 0.44478354\n",
      "[0.56168944] 0.74794537\n",
      "[0.5294923] 0.51876295\n",
      "[0.34141108] 0.33215812\n",
      "[0.79010767] 0.8209282\n",
      "[0.35011938] 0.34058735\n",
      "[0.35452357] 0.35057876\n",
      "[0.49786842] 0.41841793\n",
      "[0.40202218] 0.5044085\n",
      "[0.6483484] 0.6917134\n",
      "[0.37814593] 0.40180162\n",
      "[0.54671407] 0.5893489\n",
      "[0.35600963] 0.39571527\n",
      "[0.53305733] 0.5244721\n",
      "[0.3645951] 0.3443039\n",
      "[0.36124402] 0.31379113\n",
      "[0.45650432] 0.49110463\n",
      "[0.34979784] 0.31632268\n",
      "[0.5165273] 0.5421119\n",
      "[0.36797628] 0.3875551\n",
      "[0.5661523] 0.51604265\n",
      "[0.64686805] 0.76951706\n",
      "[0.36969113] 0.3531913\n",
      "[0.5458701] 0.4621271\n",
      "[0.39689666] 0.38860527\n",
      "[0.54870397] 0.7472721\n",
      "[0.50163287] 0.5287003\n",
      "[0.5737789] 0.590453\n",
      "[0.57953113] 0.531986\n",
      "[0.34556577] 0.3288993\n",
      "[0.35242596] 0.3335316\n",
      "[0.3510293] 0.3325351\n",
      "[0.47962385] 0.47373414\n",
      "[0.56522435] 0.47157976\n",
      "[0.35972098] 0.34721243\n",
      "[0.46195868] 0.39315677\n",
      "[0.3777027] 0.32798377\n",
      "[0.48224497] 0.4649008\n",
      "[0.49284306] 0.40748388\n",
      "[0.4372027] 0.35879278\n",
      "[0.3492851] 0.31362954\n",
      "[0.3537594] 0.4006974\n",
      "[0.3807062] 0.35701537\n",
      "[0.51914126] 0.4862302\n",
      "[0.35734007] 0.30859336\n",
      "[0.50027] 0.5606404\n",
      "[0.37843704] 0.35265255\n",
      "[0.55211735] 0.7697594\n",
      "[0.3613448] 0.40374058\n",
      "[0.35492203] 0.38566998\n",
      "[0.35657167] 0.3211973\n",
      "[0.3701234] 0.3511983\n",
      "[0.39488223] 0.40352517\n",
      "[0.48617944] 0.4915624\n",
      "[0.5105181] 0.49223578\n",
      "[0.36162913] 0.34150305\n",
      "[0.37188116] 0.39226797\n",
      "[0.34945336] 0.3383791\n",
      "[0.4418305] 0.50842124\n",
      "[0.35929018] 0.4625579\n",
      "[0.4941923] 0.5175239\n",
      "[0.52058953] 0.42967513\n",
      "[0.36063588] 0.36509475\n",
      "[0.35660738] 0.32467112\n",
      "[0.51291335] 0.34683546\n",
      "[0.35927865] 0.41747528\n",
      "[0.348058] 0.33326232\n",
      "[0.5879375] 0.5619062\n",
      "[0.5590271] 0.497622\n",
      "[0.34813684] 0.39382994\n",
      "[0.52474666] 0.60825443\n",
      "[0.5158679] 0.5574895\n",
      "[0.6415768] 0.64808536\n",
      "[0.3727193] 0.42038384\n",
      "[0.35834715] 0.33318135\n",
      "[0.36003122] 0.37384713\n",
      "[0.35019678] 0.42711663\n",
      "[0.3505749] 0.31352183\n",
      "[0.51041764] 0.5141845\n",
      "[0.3473561] 0.32407874\n",
      "[0.5424144] 0.69930804\n",
      "[0.5405618] 0.5886487\n",
      "[0.35269815] 0.38022986\n",
      "[0.55682725] 0.9293524\n",
      "[0.730424] 0.4092884\n",
      "[0.36042973] 0.35860428\n",
      "[0.48911935] 0.40616423\n",
      "[0.5788426] 0.48733422\n",
      "[0.6361394] 0.6460386\n",
      "[0.49558735] 0.7108883\n",
      "[0.36508647] 0.3389717\n",
      "[0.49040237] 0.47295305\n",
      "[0.3782393] 0.41968372\n",
      "[0.389954] 0.42461202\n",
      "[0.36043748] 0.36619878\n",
      "[0.603753] 0.5979399\n",
      "[0.5378778] 0.49193957\n",
      "[0.6345095] 0.890114\n",
      "[0.4997836] 0.36937678\n",
      "[0.38083285] 0.48116726\n",
      "[0.3565476] 0.39690006\n",
      "[0.51450884] 0.40718788\n",
      "[0.564602] 0.5250914\n",
      "[0.35445976] 0.37689048\n",
      "[0.48755375] 0.5958662\n",
      "[0.75658846] 0.69785374\n",
      "[0.42782518] 0.3087282\n",
      "[0.3418677] 0.3675184\n",
      "[0.3579311] 0.31497613\n",
      "[0.34752095] 0.34131458\n",
      "[0.5405342] 0.92175794\n",
      "[0.3681797] 0.47254935\n",
      "[0.6217062] 0.47036782\n",
      "[0.39058748] 0.4639314\n",
      "[0.4860939] 0.4865533\n",
      "[0.4851081] 0.42288867\n",
      "[0.5129599] 0.71266586\n",
      "[0.5417946] 0.4112545\n",
      "[0.33623] 0.3812264\n",
      "[0.59103364] 0.5005034\n",
      "[0.3523868] 0.38362312\n",
      "[0.60949033] 0.53753364\n",
      "[0.5536615] 0.51415753\n",
      "[0.3685339] 0.34853208\n",
      "[0.3575018] 0.42148805\n",
      "[0.38851818] 0.31230992\n",
      "[0.5997655] 0.8005415\n",
      "[0.3556381] 0.39108297\n",
      "[0.5078245] 0.42415425\n",
      "[0.35127622] 0.33474353\n",
      "[0.5299677] 0.49861854\n",
      "[0.5081856] 0.5194092\n",
      "[0.34099624] 0.39329138\n",
      "[0.4069513] 0.41806787\n",
      "[0.4425192] 0.49412107\n",
      "[0.34655255] 0.39563426\n",
      "[0.5091222] 0.7198833\n",
      "[0.51689035] 0.4113622\n",
      "[0.47805277] 0.3437115\n",
      "[0.61109275] 0.3739281\n",
      "[0.5279112] 0.5786303\n",
      "[0.532175] 0.50831354\n",
      "[0.6404946] 0.8046889\n",
      "[0.45774108] 0.37664795\n",
      "[0.36051726] 0.3377865\n",
      "[0.36029777] 0.4105001\n",
      "[0.5834616] 0.8460818\n",
      "[0.51795906] 0.40013173\n",
      "[0.49064082] 0.39533827\n",
      "[0.3485429] 0.33100003\n",
      "[0.6009765] 0.41594023\n",
      "[0.41726348] 0.38690865\n",
      "[0.5717179] 0.4828906\n",
      "[0.3540149] 0.38739353\n",
      "[0.34279808] 0.32399794\n",
      "[0.43304133] 0.41685596\n",
      "[0.46988276] 0.55374604\n",
      "[0.5086008] 0.3784794\n",
      "[0.54523355] 0.5259533\n",
      "[0.5190282] 0.5917188\n"
     ]
    }
   ],
   "source": [
    "Xtrain_FNN_truths_FMN = model.predict(X_train[0:200])\n",
    "\n",
    "for i in range (0,200):\n",
    "    print(Xtrain_FNN_truths_FMN[i], y_train[i])"
   ]
  },
  {
   "cell_type": "code",
   "execution_count": null,
   "metadata": {},
   "outputs": [],
   "source": [
    "\n",
    "plt.scatter(y_train,Xtrain_FNN_truths_FMN, color='cornflowerblue', label='normalized DNB')\n",
    "plt.xlabel('X value = Truth Train')\n",
    "plt.ylabel('Y value = ML Train')\n",
    "plt.legend()\n",
    "plt.title('training vs ML vs DNB Full Moon Norm Radiances using M15 band')\n",
    "plt.show()"
   ]
  },
  {
   "cell_type": "code",
   "execution_count": 30,
   "metadata": {},
   "outputs": [
    {
     "name": "stdout",
     "output_type": "stream",
     "text": [
      "(1, 82709145) (1, 883)\n"
     ]
    }
   ],
   "source": [
    "AA = np.array(np.where(X_train < 0.5))\n",
    "BB = np.array(np.where(X_train >= 0.5))\n",
    "print (AA.shape, BB.shape)"
   ]
  },
  {
   "cell_type": "code",
   "execution_count": 26,
   "metadata": {},
   "outputs": [
    {
     "name": "stdout",
     "output_type": "stream",
     "text": [
      "[0.03982136 0.1093602  0.02288922 0.01712386 0.0706758  0.01948863\n",
      " 0.06723164 0.09657527 0.2438814  0.209297   0.04852968 0.03561774\n",
      " 0.02093067 0.08809017 0.04307387 0.09417985 0.03426116 0.03732258\n",
      " 0.0169811  0.04509037 0.07689463 0.12589134 0.02164144 0.27895454\n",
      " 0.10524672 0.20157874 0.08224378 0.26850373 0.15141231 0.01313385\n",
      " 0.18667741 0.04358631 0.05229744 0.05799287 0.01325055 0.0250629\n",
      " 0.01472858 0.0585162  0.02683542 0.02881678 0.08657064 0.16923875\n",
      " 0.13112053 0.01227695 0.36150602 0.01722396 0.01970413 0.0939654\n",
      " 0.04295584 0.27187997 0.03278408 0.15145274 0.0205378  0.135321\n",
      " 0.0253246  0.02346214 0.06285018 0.01704234 0.11587116 0.02719643\n",
      " 0.17456351 0.2710655  0.02814302 0.15045366 0.04104648 0.15380956\n",
      " 0.09838346 0.18369338 0.19060703 0.01464447 0.01852464 0.01773755\n",
      " 0.07253972 0.1734554  0.02261318 0.06481295 0.03254182 0.07562041\n",
      " 0.08806689 0.05587098 0.01675255 0.01927482 0.03418131 0.11894289\n",
      " 0.02128289 0.09678399 0.03294311 0.15785676 0.02351827 0.01992782\n",
      " 0.02085272 0.02838133 0.04029378 0.08024263 0.10881329 0.02367654\n",
      " 0.02934925 0.01684766 0.05754982 0.02237277 0.08965071 0.12064531\n",
      " 0.02312334 0.02087271 0.111626   0.02236633 0.01605819 0.20075785\n",
      " 0.16606785 0.01610285 0.12553434 0.11509647 0.2672939  0.02981013\n",
      " 0.02184606 0.02278625 0.01726767 0.01748113 0.10869539 0.01566054\n",
      " 0.14636602 0.14417666 0.01867786 0.16345094 0.32022056 0.02300845\n",
      " 0.08369517 0.18977807 0.260379   0.09128813 0.0255971  0.08520158\n",
      " 0.03283509 0.03844664 0.02301277 0.22002949 0.14100717 0.25831488\n",
      " 0.09621309 0.03425032 0.02083923 0.11349998 0.17271246 0.0196683\n",
      " 0.08185666 0.3374594  0.05245664 0.01253783 0.0216135  0.01575398\n",
      " 0.14414406 0.02730881 0.24223146 0.03868452 0.08014221 0.07898428\n",
      " 0.11168072 0.14563341 0.009305   0.20451187 0.01850259 0.22708403\n",
      " 0.1596896  0.02750443 0.02137338 0.03790691 0.21514739 0.02032953\n",
      " 0.10565086 0.01787678 0.13168044 0.1060749  0.01203978 0.04478453\n",
      " 0.05779931 0.01520482 0.10717441 0.11629774 0.07069254 0.22906074\n",
      " 0.12925874 0.13428108 0.26591396 0.06329557 0.02305723 0.02293487\n",
      " 0.1953458  0.11755356 0.08548155 0.01633273 0.2166284  0.04858835\n",
      " 0.18122223 0.01941837 0.01306886 0.05435801 0.06765871 0.10656223\n",
      " 0.14970031 0.11881   ]\n"
     ]
    }
   ],
   "source": [
    "print(X_train[0:200])"
   ]
  },
  {
   "cell_type": "code",
   "execution_count": 12,
   "metadata": {},
   "outputs": [],
   "source": [
    "#now apply the model to other data\n",
    "#load adata\n",
    "applycase=np.load('EMA_norm_M15_DNBFMN.npz')\n",
    "applycase.files\n",
    "\n",
    "X= applycase['myarray'][:,:,:,2].flatten()\n",
    "y=applycase['myarray'][:,:,:,3].flatten()\n",
    "\n",
    "#load model\n",
    "from tensorflow import keras\n",
    "model = keras.models.load_model('FNN_attempt2')\n",
    "\n",
    "\n",
    "#run model\n",
    "TCEMA_FNN_truths_FMN = model.predict(X)\n",
    "\n",
    "\n"
   ]
  },
  {
   "cell_type": "code",
   "execution_count": 15,
   "metadata": {},
   "outputs": [
    {
     "data": {
      "text/plain": [
       "(0.999767, 0.3336826)"
      ]
     },
     "execution_count": 15,
     "metadata": {},
     "output_type": "execute_result"
    }
   ],
   "source": [
    "TCEMA_FNN_truths_FMN.max(),TCEMA_FNN_truths_FMN.min()\n"
   ]
  },
  {
   "cell_type": "code",
   "execution_count": 16,
   "metadata": {},
   "outputs": [
    {
     "data": {
      "text/plain": [
       "(1.0, 0.0)"
      ]
     },
     "execution_count": 16,
     "metadata": {},
     "output_type": "execute_result"
    }
   ],
   "source": [
    "X.max(),X.min()"
   ]
  },
  {
   "cell_type": "code",
   "execution_count": 17,
   "metadata": {},
   "outputs": [
    {
     "data": {
      "text/plain": [
       "(1.0, 0.29321587)"
      ]
     },
     "execution_count": 17,
     "metadata": {},
     "output_type": "execute_result"
    }
   ],
   "source": [
    "y.max(),y.min()"
   ]
  },
  {
   "cell_type": "code",
   "execution_count": 13,
   "metadata": {},
   "outputs": [
    {
     "data": {
      "image/png": "[encoded data removed]",
      "text/plain": [
       "<Figure size 432x288 with 1 Axes>"
      ]
     },
     "metadata": {
      "needs_background": "light"
     },
     "output_type": "display_data"
    }
   ],
   "source": [
    "#basic stats X axis truth Y axis ML\n",
    "\n",
    "\n",
    "plt.scatter(y, TCEMA_FNN_truths_FMN, color='cornflowerblue', label='normalized DNB')\n",
    "plt.xlabel('X value = Truth')\n",
    "plt.ylabel('Y value = ML')\n",
    "plt.legend()\n",
    "plt.title('TC EMA ML vs DNB Full Moon Norm Radiances using M15 band')\n",
    "plt.show()\n"
   ]
  },
  {
   "cell_type": "code",
   "execution_count": null,
   "metadata": {},
   "outputs": [],
   "source": [
    "\n",
    "\n",
    "plt.scatter(y, X, color='cornflowerblue', label='normalized DNB')\n",
    "plt.xlabel('X value = Truth')\n",
    "plt.ylabel('Y value = ML')\n",
    "plt.legend()\n",
    "plt.title('TC EMA ML vs DNB Full Moon Norm Radiances using M15 band')\n",
    "plt.show()\n"
   ]
  },
  {
   "cell_type": "code",
   "execution_count": null,
   "metadata": {},
   "outputs": [],
   "source": []
  },
  {
   "cell_type": "code",
   "execution_count": null,
   "metadata": {},
   "outputs": [],
   "source": [
    "#return back to raw radiances so can apply image making\n",
    "DNB_bounds = {'night': [2e-10, 3e-7],\n",
    "              'full_moon': [1.26e-10, 1e-7],  # curtis\n",
    "              'new_moon': [2e-11, 1e-9],\n",
    "              'Miller_full_moon': [-9.5, -8.0]}\n",
    "\n",
    "return (arr * (mx - mn)) + mn\n",
    "\n"
   ]
  }
 ],
 "metadata": {
  "kernelspec": {
   "display_name": "Python 3",
   "language": "python",
   "name": "python3"
  },
  "language_info": {
   "codemirror_mode": {
    "name": "ipython",
    "version": 3
   },
   "file_extension": ".py",
   "mimetype": "text/x-python",
   "name": "python",
   "nbconvert_exporter": "python",
   "pygments_lexer": "ipython3",
   "version": "3.8.5"
  }
 },
 "nbformat": 4,
 "nbformat_minor": 4
}
