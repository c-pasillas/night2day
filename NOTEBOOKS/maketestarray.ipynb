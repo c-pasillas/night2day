{
 "cells": [
  {
   "cell_type": "code",
   "execution_count": 2,
   "metadata": {},
   "outputs": [
    {
     "data": {
      "text/plain": [
       "['latitude',\n",
       " 'longitude',\n",
       " 'DNB',\n",
       " 'M12',\n",
       " 'M13',\n",
       " 'M14',\n",
       " 'M15',\n",
       " 'M16',\n",
       " 'channels',\n",
       " 'M12norm',\n",
       " 'M13norm',\n",
       " 'M14norm',\n",
       " 'M15norm',\n",
       " 'M16norm',\n",
       " 'BTD1213',\n",
       " 'BTD1213norm',\n",
       " 'BTD1214',\n",
       " 'BTD1214norm',\n",
       " 'BTD1215',\n",
       " 'BTD1215norm',\n",
       " 'BTD1216',\n",
       " 'BTD1216norm',\n",
       " 'BTD1312',\n",
       " 'BTD1312norm',\n",
       " 'BTD1314',\n",
       " 'BTD1314norm',\n",
       " 'BTD1315',\n",
       " 'BTD1315norm',\n",
       " 'BTD1316',\n",
       " 'BTD1316norm',\n",
       " 'BTD1412',\n",
       " 'BTD1412norm',\n",
       " 'BTD1413',\n",
       " 'BTD1413norm',\n",
       " 'BTD1415',\n",
       " 'BTD1415norm',\n",
       " 'BTD1416',\n",
       " 'BTD1416norm',\n",
       " 'BTD1512',\n",
       " 'BTD1512norm',\n",
       " 'BTD1513',\n",
       " 'BTD1513norm',\n",
       " 'BTD1514',\n",
       " 'BTD1514norm',\n",
       " 'BTD1516',\n",
       " 'BTD1516norm',\n",
       " 'BTD1612',\n",
       " 'BTD1612norm',\n",
       " 'BTD1613',\n",
       " 'BTD1613norm',\n",
       " 'BTD1614',\n",
       " 'BTD1614norm',\n",
       " 'BTD1615',\n",
       " 'BTD1615norm',\n",
       " 'DNBfix',\n",
       " 'DNB_norm',\n",
       " 'DNB_full_moon_norm',\n",
       " 'DNB_log_norm',\n",
       " 'DNB_log_full_moon_norm',\n",
       " 'DNB_log_Miller_full_moon']"
      ]
     },
     "execution_count": 2,
     "metadata": {},
     "output_type": "execute_result"
    }
   ],
   "source": [
    "import numpy as np\n",
    "case=np.load('full_case_normalized.npz')\n",
    "case.files"
   ]
  },
  {
   "cell_type": "code",
   "execution_count": 5,
   "metadata": {},
   "outputs": [],
   "source": [
    "#single channel save\n",
    "x = case['DNB_full_moon_norm']\n",
    "y = case['M15norm']\n",
    "a = case['latitude']\n",
    "b = case['longitude']\n",
    "\n",
    "\n",
    "#reduced = np.stack((a,b,x,y), axis =-1)\n",
    "#reduced.shape\n",
    "#np.savez(\"fullcase_norm_M15norm_DNBfix\", myarray = reduced)\n",
    "\n",
    "np.savez(\"fullcase_norm_M15norm_DNBFMNCOOR\", DNB_FMN = x, M15norm =y ,latitude = a, longitude = b)"
   ]
  },
  {
   "cell_type": "code",
   "execution_count": 10,
   "metadata": {},
   "outputs": [],
   "source": [
    "#matching 5 channel save\n",
    "x = case['DNB_log_full_moon_norm']\n",
    "y1 = case['M15norm']\n",
    "y2 = case['M16norm']\n",
    "y3a = case['M13norm']\n",
    "y3b = case['M14norm']\n",
    "y4a = case['BTD1513']\n",
    "y4b =case['BTD1514']\n",
    "y5 = case['BTD1516']\n",
    "a = case['latitude']\n",
    "b = case['longitude']\n",
    "\n",
    "#reduced = np.stack((a,b,x,y1,y2,y3a,y4a,y5), axis =-1)\n",
    "#reduced.shape\n",
    "#np.savez(\"fullcase_norm_5VM13_DNBfix\", myarray = reduced)\n",
    "\n",
    "#reduced = np.stack((a,b,x,y1,y2,y3b,y4b,y5), axis =-1)\n",
    "#reduced.shape\n",
    "#np.savez(\"fullcase_norm_5VM14_DNBlogFMN\", myarray = reduced)\n",
    "\n",
    "np.savez(\"fullcase_norm_M15norm_DNBfixCOOR\", DNBfix = x, M15norm =y ,latitude = a, longitude = b)"
   ]
  },
  {
   "cell_type": "code",
   "execution_count": null,
   "metadata": {},
   "outputs": [],
   "source": []
  }
 ],
 "metadata": {
  "kernelspec": {
   "display_name": "Python 3",
   "language": "python",
   "name": "python3"
  },
  "language_info": {
   "codemirror_mode": {
    "name": "ipython",
    "version": 3
   },
   "file_extension": ".py",
   "mimetype": "text/x-python",
   "name": "python",
   "nbconvert_exporter": "python",
   "pygments_lexer": "ipython3",
   "version": "3.8.5"
  }
 },
 "nbformat": 4,
 "nbformat_minor": 4
}
