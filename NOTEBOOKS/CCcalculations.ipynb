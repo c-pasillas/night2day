{
 "cells": [
  {
   "cell_type": "code",
   "execution_count": 1,
   "metadata": {},
   "outputs": [],
   "source": [
    "#import statements\n",
    "import numpy as np\n",
    "import tensorflow as tf\n",
    "import keras\n",
    "from matplotlib import pyplot as plt\n",
    "from scipy import stats\n",
    "from numpy.random import randn\n",
    "from numpy.random import seed\n",
    "from numpy import cov\n",
    "\n",
    "import gzip\n",
    "import math\n",
    "import tensorflow.keras.layers as layers\n",
    "import pandas as pd\n",
    "import IPython.display as dis\n",
    "from PIL import Image\n",
    "\n",
    "#learned no real difference using norm or raw data.\n",
    "#there is between .91 and .99 coorelation for the vairous DNS truths (biggest influence is log/no log)\n",
    "\n",
    "#raw channels most related to DNB (all .7 or higher)\n",
    "#then some BTDS GT0.3 --> 1213,1214,1415,1516 relationships ( positive or negative)\n",
    "#many BTDs less than 0.3\n",
    "\n",
    "#moving forward to save calculations and data array space 5 channels, 4 BTDs, FMN and logFMN variables    \n"
   ]
  },
  {
   "cell_type": "code",
   "execution_count": 9,
   "metadata": {},
   "outputs": [
    {
     "data": {
      "text/plain": [
       "['latitude',\n",
       " 'longitude',\n",
       " 'DNB',\n",
       " 'M12',\n",
       " 'M13',\n",
       " 'M14',\n",
       " 'M15',\n",
       " 'M16',\n",
       " 'channels',\n",
       " 'samples',\n",
       " 'M12norm',\n",
       " 'M13norm',\n",
       " 'M14norm',\n",
       " 'M15norm',\n",
       " 'M16norm',\n",
       " 'BTD1213',\n",
       " 'BTD1213norm',\n",
       " 'BTD1214',\n",
       " 'BTD1214norm',\n",
       " 'BTD1215',\n",
       " 'BTD1215norm',\n",
       " 'BTD1216',\n",
       " 'BTD1216norm',\n",
       " 'BTD1312',\n",
       " 'BTD1312norm',\n",
       " 'BTD1314',\n",
       " 'BTD1314norm',\n",
       " 'BTD1315',\n",
       " 'BTD1315norm',\n",
       " 'BTD1316',\n",
       " 'BTD1316norm',\n",
       " 'BTD1412',\n",
       " 'BTD1412norm',\n",
       " 'BTD1413',\n",
       " 'BTD1413norm',\n",
       " 'BTD1415',\n",
       " 'BTD1415norm',\n",
       " 'BTD1416',\n",
       " 'BTD1416norm',\n",
       " 'BTD1512',\n",
       " 'BTD1512norm',\n",
       " 'BTD1513',\n",
       " 'BTD1513norm',\n",
       " 'BTD1514',\n",
       " 'BTD1514norm',\n",
       " 'BTD1516',\n",
       " 'BTD1516norm',\n",
       " 'BTD1612',\n",
       " 'BTD1612norm',\n",
       " 'BTD1613',\n",
       " 'BTD1613norm',\n",
       " 'BTD1614',\n",
       " 'BTD1614norm',\n",
       " 'BTD1615',\n",
       " 'BTD1615norm',\n",
       " 'DNBfix',\n",
       " 'DNB_norm',\n",
       " 'DNB_full_moon_norm',\n",
       " 'DNB_log_norm',\n",
       " 'DNB_log_full_moon_norm',\n",
       " 'DNB_log_Miller_full_moon']"
      ]
     },
     "execution_count": 9,
     "metadata": {},
     "output_type": "execute_result"
    }
   ],
   "source": [
    "#load data\n",
    "case=np.load('../../YOONGIN/fullcase_normalized.npz') #full march data \n",
    "case.files"
   ]
  },
  {
   "cell_type": "code",
   "execution_count": 10,
   "metadata": {},
   "outputs": [
    {
     "data": {
      "text/plain": [
       "(93, 3056, 3759)"
      ]
     },
     "execution_count": 10,
     "metadata": {},
     "output_type": "execute_result"
    }
   ],
   "source": [
    "case['latitude'].shape"
   ]
  },
  {
   "cell_type": "code",
   "execution_count": 11,
   "metadata": {},
   "outputs": [
    {
     "data": {
      "text/plain": [
       "array(['d20190319_t0902488', 'd20190319_t0908305', 'd20190319_t0914121',\n",
       "       'd20190319_t0919537', 'd20190319_t0954011', 'd20190319_t0959442',\n",
       "       'd20190319_t1005254', 'd20190319_t1011066', 'd20190319_t1045144',\n",
       "       'd20190319_t1050561', 'd20190319_t1056377', 'd20190319_t1102193',\n",
       "       'd20190319_t1136270', 'd20190319_t1142082', 'd20190319_t1147495',\n",
       "       'd20190319_t1153307', 'd20190319_t1227400', 'd20190319_t1233217',\n",
       "       'd20190319_t1239033', 'd20190319_t1244431', 'd20190319_t1318529',\n",
       "       'd20190319_t1324341', 'd20190319_t1330153', 'd20190319_t1335566',\n",
       "       'd20190319_t1404240', 'd20190319_t1410056', 'd20190319_t1415455',\n",
       "       'd20190319_t1421271', 'd20190319_t1427087', 'd20190320_t0856418',\n",
       "       'd20190320_t0902234', 'd20190320_t0936318', 'd20190320_t0942130',\n",
       "       'd20190320_t0947543', 'd20190320_t0953355', 'd20190320_t1027442',\n",
       "       'd20190320_t1033258', 'd20190320_t1039074', 'd20190320_t1044490',\n",
       "       'd20190320_t1118576', 'd20190320_t1124389', 'd20190320_t1130201',\n",
       "       'd20190320_t1136014', 'd20190320_t1204282', 'd20190320_t1210098',\n",
       "       'd20190320_t1215514', 'd20190320_t1221330', 'd20190320_t1227146',\n",
       "       'd20190320_t1255405', 'd20190320_t1301217', 'd20190320_t1307029',\n",
       "       'd20190320_t1312460', 'd20190320_t1318272', 'd20190320_t1346537',\n",
       "       'd20190320_t1352354', 'd20190320_t1358170', 'd20190320_t1403568',\n",
       "       'd20190320_t1409384', 'd20190320_t1438063', 'd20190320_t1443476',\n",
       "       'd20190320_t1449288', 'd20190320_t1455100', 'd20190321_t0919024',\n",
       "       'd20190321_t0924436', 'd20190321_t0930249', 'd20190321_t0936061',\n",
       "       'd20190321_t1010139', 'd20190321_t1015555', 'd20190321_t1021371',\n",
       "       'd20190321_t1027188', 'd20190321_t1055452', 'd20190321_t1101265',\n",
       "       'd20190321_t1107077', 'd20190321_t1112507', 'd20190321_t1118320',\n",
       "       'd20190321_t1146579', 'd20190321_t1152395', 'd20190321_t1158211',\n",
       "       'd20190321_t1204027', 'd20190321_t1209443', 'd20190321_t1238111',\n",
       "       'd20190321_t1243523', 'd20190321_t1249336', 'd20190321_t1255148',\n",
       "       'd20190321_t1300561', 'd20190321_t1329235', 'd20190321_t1335051',\n",
       "       'd20190321_t1340467', 'd20190321_t1346283', 'd20190321_t1420370',\n",
       "       'd20190321_t1426182', 'd20190321_t1431594', 'd20190321_t1437407'],\n",
       "      dtype='<U18')"
      ]
     },
     "execution_count": 11,
     "metadata": {},
     "output_type": "execute_result"
    }
   ],
   "source": [
    "case['samples']"
   ]
  },
  {
   "cell_type": "code",
   "execution_count": 12,
   "metadata": {},
   "outputs": [
    {
     "name": "stdout",
     "output_type": "stream",
     "text": [
      "['M12', 'M13', 'M14', 'M15', 'M16', 'M12norm', 'M13norm', 'M14norm', 'M15norm', 'M16norm', 'BTD1213', 'BTD1213norm', 'BTD1214', 'BTD1214norm', 'BTD1215', 'BTD1215norm', 'BTD1216', 'BTD1216norm', 'BTD1312', 'BTD1312norm', 'BTD1314', 'BTD1314norm', 'BTD1315', 'BTD1315norm', 'BTD1316', 'BTD1316norm', 'BTD1412', 'BTD1412norm', 'BTD1413', 'BTD1413norm', 'BTD1415', 'BTD1415norm', 'BTD1416', 'BTD1416norm', 'BTD1512', 'BTD1512norm', 'BTD1513', 'BTD1513norm', 'BTD1514', 'BTD1514norm', 'BTD1516', 'BTD1516norm', 'BTD1612', 'BTD1612norm', 'BTD1613', 'BTD1613norm', 'BTD1614', 'BTD1614norm', 'BTD1615', 'BTD1615norm', 'DNBfix', 'DNB_norm', 'DNB_full_moon_norm', 'DNB_log_norm', 'DNB_log_full_moon_norm', 'DNB_log_Miller_full_moon']\n"
     ]
    }
   ],
   "source": [
    "allchannels=list(case['channels'])[3:]\n",
    "#rawchannels = list(case'channels')\n",
    "print (allchannels)#,rawchannels)"
   ]
  },
  {
   "cell_type": "code",
   "execution_count": 13,
   "metadata": {},
   "outputs": [
    {
     "name": "stdout",
     "output_type": "stream",
     "text": [
      "['M12norm', 'M13norm', 'M14norm', 'M15norm', 'M16norm', 'BTD1213norm', 'BTD1214norm', 'BTD1215norm', 'BTD1216norm', 'BTD1312norm', 'BTD1314norm', 'BTD1315norm', 'BTD1316norm', 'BTD1412norm', 'BTD1413norm', 'BTD1415norm', 'BTD1416norm', 'BTD1512norm', 'BTD1513norm', 'BTD1514norm', 'BTD1516norm', 'BTD1612norm', 'BTD1613norm', 'BTD1614norm', 'BTD1615norm', 'DNB_norm', 'DNB_full_moon_norm', 'DNB_log_norm', 'DNB_log_full_moon_norm']\n"
     ]
    }
   ],
   "source": [
    "normchannels = [s for s in allchannels if s.endswith('norm')]\n",
    "print(normchannels)"
   ]
  },
  {
   "cell_type": "code",
   "execution_count": 14,
   "metadata": {},
   "outputs": [
    {
     "name": "stdout",
     "output_type": "stream",
     "text": [
      "['M12', 'M13', 'M14', 'M15', 'M16', 'BTD1213', 'BTD1214', 'BTD1215', 'BTD1216', 'BTD1312', 'BTD1314', 'BTD1315', 'BTD1316', 'BTD1412', 'BTD1413', 'BTD1415', 'BTD1416', 'BTD1512', 'BTD1513', 'BTD1514', 'BTD1516', 'BTD1612', 'BTD1613', 'BTD1614', 'BTD1615', 'DNBfix', 'DNB_log_Miller_full_moon']\n"
     ]
    }
   ],
   "source": [
    "rawchannels = [s for s in allchannels if not s.endswith('norm')]\n",
    "print(rawchannels)"
   ]
  },
  {
   "cell_type": "code",
   "execution_count": 15,
   "metadata": {},
   "outputs": [
    {
     "data": {
      "text/plain": [
       "(29, 1068337872)"
      ]
     },
     "execution_count": 15,
     "metadata": {},
     "output_type": "execute_result"
    }
   ],
   "source": [
    "normcase = np.stack([case[a].flatten() for a in normchannels])\n",
    "normcase.shape"
   ]
  },
  {
   "cell_type": "code",
   "execution_count": 16,
   "metadata": {},
   "outputs": [
    {
     "data": {
      "text/plain": [
       "(29, 29)"
      ]
     },
     "execution_count": 16,
     "metadata": {},
     "output_type": "execute_result"
    }
   ],
   "source": [
    "normcovar = np.corrcoef(normcase)\n",
    "normcovar.shape"
   ]
  },
  {
   "cell_type": "code",
   "execution_count": 17,
   "metadata": {},
   "outputs": [
    {
     "name": "stdout",
     "output_type": "stream",
     "text": [
      "[[ 1.00000000e+00  9.96189062e-01  9.72237002e-01  9.64992210e-01\n",
      "   9.50877385e-01  2.63315626e-01  9.68097390e-02 -9.26214367e-02\n",
      "   7.85720030e-06 -2.63315626e-01 -1.25022701e-02 -2.01368697e-01\n",
      "  -8.24118865e-02 -9.68097390e-02  1.25022701e-02 -5.85778115e-01\n",
      "  -1.87510072e-01  9.26214367e-02  2.01368697e-01  5.85778115e-01\n",
      "   3.78074011e-01 -7.85721237e-06  8.24118865e-02  1.87510072e-01\n",
      "  -3.78074011e-01  5.32940957e-01  6.53646170e-01  7.04754426e-01\n",
      "   7.05609143e-01]\n",
      " [ 9.96189062e-01  1.00000000e+00  9.77493561e-01  9.70118689e-01\n",
      "   9.57518633e-01  1.84790291e-01  4.81182295e-02 -1.33289110e-01\n",
      "  -3.93446842e-02 -1.84790291e-01 -3.27239284e-02 -2.17340531e-01\n",
      "  -1.01301238e-01 -4.81182295e-02  3.27239284e-02 -5.87690021e-01\n",
      "  -2.02663990e-01  1.33289110e-01  2.17340531e-01  5.87690021e-01\n",
      "   3.54071244e-01  3.93446842e-02  1.01301238e-01  2.02663990e-01\n",
      "  -3.54071244e-01  5.17199082e-01  6.33911056e-01  6.89506036e-01\n",
      "   6.90327653e-01]\n",
      " [ 9.72237002e-01  9.77493561e-01  1.00000000e+00  9.98598128e-01\n",
      "   9.95065783e-01  1.38291071e-01 -1.20300905e-01 -3.00864013e-01\n",
      "  -2.10848765e-01 -1.38291071e-01 -2.13361416e-01 -3.86543887e-01\n",
      "  -2.76188993e-01  1.20300905e-01  2.13361416e-01 -6.85757051e-01\n",
      "  -3.53524703e-01  3.00864013e-01  3.86543887e-01  6.85757051e-01\n",
      "   2.10033322e-01  2.10848765e-01  2.76188993e-01  3.53524703e-01\n",
      "  -2.10033322e-01  5.17031189e-01  6.35515582e-01  6.85171177e-01\n",
      "   6.86076351e-01]\n",
      " [ 9.64992210e-01  9.70118689e-01  9.98598128e-01  1.00000000e+00\n",
      "   9.98192680e-01  1.38811712e-01 -1.49385934e-01 -3.35872673e-01\n",
      "  -2.46247386e-01 -1.38811712e-01 -2.48761104e-01 -4.25711950e-01\n",
      "  -3.15453090e-01  1.49385934e-01  2.48761104e-01 -7.23320119e-01\n",
      "  -3.95659255e-01  3.35872673e-01  4.25711950e-01  7.23320119e-01\n",
      "   1.82022166e-01  2.46247386e-01  3.15453090e-01  3.95659255e-01\n",
      "  -1.82022166e-01  5.12446056e-01  6.30390444e-01  6.82167023e-01\n",
      "   6.83097252e-01]\n",
      " [ 9.50877385e-01  9.57518633e-01  9.95065783e-01  9.98192680e-01\n",
      "   1.00000000e+00  1.18040375e-01 -1.96952733e-01 -3.81298385e-01\n",
      "  -2.96958330e-01 -1.18040375e-01 -2.96022716e-01 -4.68531764e-01\n",
      "  -3.64966483e-01  1.96952733e-01  2.96022716e-01 -7.44550985e-01\n",
      "  -4.44589898e-01  3.81298385e-01  4.68531764e-01  7.44550985e-01\n",
      "   1.22602626e-01  2.96958330e-01  3.64966483e-01  4.44589898e-01\n",
      "  -1.22602627e-01  5.02684115e-01  6.18542881e-01  6.71357660e-01\n",
      "   6.72283927e-01]\n",
      " [ 2.63315626e-01  1.84790291e-01  1.38291071e-01  1.38811712e-01\n",
      "   1.18040375e-01  1.00000000e+00  5.90588865e-01  4.55679698e-01\n",
      "   4.60022092e-01 -1.00000000e+00  2.21890648e-01  1.34138230e-01\n",
      "   1.95127435e-01 -5.90588865e-01 -2.21890648e-01 -1.04550942e-01\n",
      "   1.35698427e-01 -4.55679698e-01 -1.34138230e-01  1.04550943e-01\n",
      "   3.61057937e-01 -4.60022092e-01 -1.95127435e-01 -1.35698427e-01\n",
      "  -3.61057937e-01  2.71816070e-01  3.37063914e-01  3.28572833e-01\n",
      "   3.29112315e-01]\n",
      " [ 9.68097390e-02  4.81182295e-02 -1.20300905e-01 -1.49385934e-01\n",
      "  -1.96952733e-01  5.90588865e-01  1.00000000e+00  9.66320618e-01\n",
      "   9.73433178e-01 -5.90588865e-01  9.17902184e-01  8.55387705e-01\n",
      "   8.90388605e-01 -1.00000000e+00 -9.17902184e-01  4.84853458e-01\n",
      "   7.70882827e-01 -9.66320618e-01 -8.55387705e-01 -4.84853457e-01\n",
      "   7.55545309e-01 -9.73433178e-01 -8.90388605e-01 -7.70882827e-01\n",
      "  -7.55545309e-01  9.68374031e-02  1.15618323e-01  6.55439513e-02\n",
      "   6.53827711e-02]\n",
      " [-9.26214367e-02 -1.33289110e-01 -3.00864013e-01 -3.35872673e-01\n",
      "  -3.81298385e-01  4.55679698e-01  9.66320618e-01  1.00000000e+00\n",
      "   9.88759917e-01 -4.55679699e-01  9.43545010e-01  9.43223325e-01\n",
      "   9.49546431e-01 -9.66320618e-01 -9.43545010e-01  6.93593272e-01\n",
      "   8.78761351e-01 -1.00000000e+00 -9.43223325e-01 -6.93593272e-01\n",
      "   6.92077671e-01 -9.88759917e-01 -9.49546431e-01 -8.78761351e-01\n",
      "  -6.92077671e-01 -8.94767403e-03 -1.58747301e-02 -7.59868914e-02\n",
      "  -7.64088198e-02]\n",
      " [ 7.85720030e-06 -3.93446842e-02 -2.10848765e-01 -2.46247386e-01\n",
      "  -2.96958330e-01  4.60022092e-01  9.73433178e-01  9.88759917e-01\n",
      "   1.00000000e+00 -4.60022093e-01  9.50003920e-01  9.29089802e-01\n",
      "   9.60602952e-01 -9.73433178e-01 -9.50003920e-01  6.35482947e-01\n",
      "   8.96252355e-01 -9.88759917e-01 -9.29089801e-01 -6.35482947e-01\n",
      "   7.92219839e-01 -1.00000000e+00 -9.60602952e-01 -8.96252355e-01\n",
      "  -7.92219840e-01  4.17014870e-02  4.66379523e-02 -6.06337602e-03\n",
      "  -6.37728042e-03]\n",
      " [-2.63315626e-01 -1.84790291e-01 -1.38291071e-01 -1.38811712e-01\n",
      "  -1.18040375e-01 -1.00000000e+00 -5.90588865e-01 -4.55679699e-01\n",
      "  -4.60022093e-01  1.00000000e+00 -2.21890648e-01 -1.34138231e-01\n",
      "  -1.95127436e-01  5.90588865e-01  2.21890648e-01  1.04550942e-01\n",
      "  -1.35698427e-01  4.55679699e-01  1.34138230e-01 -1.04550942e-01\n",
      "  -3.61057937e-01  4.60022093e-01  1.95127435e-01  1.35698427e-01\n",
      "   3.61057937e-01 -2.71816070e-01 -3.37063914e-01 -3.28572833e-01\n",
      "  -3.29112315e-01]\n",
      " [-1.25022701e-02 -3.27239284e-02 -2.13361416e-01 -2.48761104e-01\n",
      "  -2.96022716e-01  2.21890648e-01  9.17902184e-01  9.43545010e-01\n",
      "   9.50003920e-01 -2.21890648e-01  1.00000000e+00  9.67613100e-01\n",
      "   9.79915198e-01 -9.17902184e-01 -1.00000000e+00  6.37262439e-01\n",
      "   8.64737986e-01 -9.43545010e-01 -9.67613100e-01 -6.37262438e-01\n",
      "   7.35391158e-01 -9.50003920e-01 -9.79915198e-01 -8.64737986e-01\n",
      "  -7.35391158e-01 -1.66487045e-02 -2.60394101e-02 -8.23694235e-02\n",
      "  -8.28294540e-02]\n",
      " [-2.01368697e-01 -2.17340531e-01 -3.86543887e-01 -4.25711950e-01\n",
      "  -4.68531764e-01  1.34138230e-01  8.55387705e-01  9.43223325e-01\n",
      "   9.29089802e-01 -1.34138231e-01  9.67613100e-01  1.00000000e+00\n",
      "   9.84281004e-01 -8.55387705e-01 -9.67613100e-01  8.11163951e-01\n",
      "   9.27654789e-01 -9.43223325e-01 -1.00000000e+00 -8.11163951e-01\n",
      "   6.35733654e-01 -9.29089802e-01 -9.84281004e-01 -9.27654789e-01\n",
      "  -6.35733654e-01 -1.11389898e-01 -1.43448906e-01 -2.07200981e-01\n",
      "  -2.07872006e-01]\n",
      " [-8.24118865e-02 -1.01301238e-01 -2.76188993e-01 -3.15453090e-01\n",
      "  -3.64966483e-01  1.95127435e-01  8.90388605e-01  9.49546431e-01\n",
      "   9.60602952e-01 -1.95127436e-01  9.79915198e-01  9.84281004e-01\n",
      "   1.00000000e+00 -8.90388605e-01 -9.79915198e-01  7.34676651e-01\n",
      "   9.47520576e-01 -9.49546431e-01 -9.84281004e-01 -7.34676651e-01\n",
      "   7.62066908e-01 -9.60602952e-01 -1.00000000e+00 -9.47520576e-01\n",
      "  -7.62066909e-01 -3.90180519e-02 -5.39885210e-02 -1.09544332e-01\n",
      "  -1.10059933e-01]\n",
      " [-9.68097390e-02 -4.81182295e-02  1.20300905e-01  1.49385934e-01\n",
      "   1.96952733e-01 -5.90588865e-01 -1.00000000e+00 -9.66320618e-01\n",
      "  -9.73433178e-01  5.90588865e-01 -9.17902184e-01 -8.55387705e-01\n",
      "  -8.90388605e-01  1.00000000e+00  9.17902184e-01 -4.84853457e-01\n",
      "  -7.70882827e-01  9.66320618e-01  8.55387705e-01  4.84853457e-01\n",
      "  -7.55545309e-01  9.73433178e-01  8.90388605e-01  7.70882827e-01\n",
      "   7.55545309e-01 -9.68374031e-02 -1.15618323e-01 -6.55439513e-02\n",
      "  -6.53827711e-02]\n",
      " [ 1.25022701e-02  3.27239284e-02  2.13361416e-01  2.48761104e-01\n",
      "   2.96022716e-01 -2.21890648e-01 -9.17902184e-01 -9.43545010e-01\n",
      "  -9.50003920e-01  2.21890648e-01 -1.00000000e+00 -9.67613100e-01\n",
      "  -9.79915198e-01  9.17902184e-01  1.00000000e+00 -6.37262439e-01\n",
      "  -8.64737986e-01  9.43545010e-01  9.67613100e-01  6.37262438e-01\n",
      "  -7.35391157e-01  9.50003920e-01  9.79915198e-01  8.64737986e-01\n",
      "   7.35391158e-01  1.66487045e-02  2.60394102e-02  8.23694237e-02\n",
      "   8.28294542e-02]\n",
      " [-5.85778115e-01 -5.87690021e-01 -6.85757051e-01 -7.23320119e-01\n",
      "  -7.44550985e-01 -1.04550942e-01  4.84853458e-01  6.93593272e-01\n",
      "   6.35482947e-01  1.04550942e-01  6.37262439e-01  8.11163951e-01\n",
      "   7.34676651e-01 -4.84853457e-01 -6.37262439e-01  1.00000000e+00\n",
      "   8.28636340e-01 -6.93593272e-01 -8.11163951e-01 -1.00000000e+00\n",
      "   2.37110051e-01 -6.35482947e-01 -7.34676651e-01 -8.28636340e-01\n",
      "  -2.37110051e-01 -3.01483267e-01 -3.77598277e-01 -4.41722899e-01\n",
      "  -4.42705672e-01]\n",
      " [-1.87510072e-01 -2.02663990e-01 -3.53524703e-01 -3.95659255e-01\n",
      "  -4.44589898e-01  1.35698427e-01  7.70882827e-01  8.78761351e-01\n",
      "   8.96252355e-01 -1.35698427e-01  8.64737986e-01  9.27654789e-01\n",
      "   9.47520576e-01 -7.70882827e-01 -8.64737986e-01  8.28636340e-01\n",
      "   1.00000000e+00 -8.78761351e-01 -9.27654789e-01 -8.28636339e-01\n",
      "   7.40301733e-01 -8.96252355e-01 -9.47520576e-01 -1.00000000e+00\n",
      "  -7.40301733e-01 -7.15758307e-02 -9.42239065e-02 -1.43834149e-01\n",
      "  -1.44395177e-01]\n",
      " [ 9.26214367e-02  1.33289110e-01  3.00864013e-01  3.35872673e-01\n",
      "   3.81298385e-01 -4.55679698e-01 -9.66320618e-01 -1.00000000e+00\n",
      "  -9.88759917e-01  4.55679699e-01 -9.43545010e-01 -9.43223325e-01\n",
      "  -9.49546431e-01  9.66320618e-01  9.43545010e-01 -6.93593272e-01\n",
      "  -8.78761351e-01  1.00000000e+00  9.43223325e-01  6.93593272e-01\n",
      "  -6.92077671e-01  9.88759917e-01  9.49546431e-01  8.78761351e-01\n",
      "   6.92077671e-01  8.94767401e-03  1.58747301e-02  7.59868915e-02\n",
      "   7.64088198e-02]\n",
      " [ 2.01368697e-01  2.17340531e-01  3.86543887e-01  4.25711950e-01\n",
      "   4.68531764e-01 -1.34138230e-01 -8.55387705e-01 -9.43223325e-01\n",
      "  -9.29089801e-01  1.34138230e-01 -9.67613100e-01 -1.00000000e+00\n",
      "  -9.84281004e-01  8.55387705e-01  9.67613100e-01 -8.11163951e-01\n",
      "  -9.27654789e-01  9.43223325e-01  1.00000000e+00  8.11163951e-01\n",
      "  -6.35733654e-01  9.29089801e-01  9.84281004e-01  9.27654789e-01\n",
      "   6.35733654e-01  1.11389898e-01  1.43448906e-01  2.07200981e-01\n",
      "   2.07872006e-01]\n",
      " [ 5.85778115e-01  5.87690021e-01  6.85757051e-01  7.23320119e-01\n",
      "   7.44550985e-01  1.04550943e-01 -4.84853457e-01 -6.93593272e-01\n",
      "  -6.35482947e-01 -1.04550942e-01 -6.37262438e-01 -8.11163951e-01\n",
      "  -7.34676651e-01  4.84853457e-01  6.37262438e-01 -1.00000000e+00\n",
      "  -8.28636339e-01  6.93593272e-01  8.11163951e-01  1.00000000e+00\n",
      "  -2.37110051e-01  6.35482947e-01  7.34676651e-01  8.28636339e-01\n",
      "   2.37110051e-01  3.01483268e-01  3.77598277e-01  4.41722900e-01\n",
      "   4.42705672e-01]\n",
      " [ 3.78074011e-01  3.54071244e-01  2.10033322e-01  1.82022166e-01\n",
      "   1.22602626e-01  3.61057937e-01  7.55545309e-01  6.92077671e-01\n",
      "   7.92219839e-01 -3.61057937e-01  7.35391158e-01  6.35733654e-01\n",
      "   7.62066908e-01 -7.55545309e-01 -7.35391157e-01  2.37110051e-01\n",
      "   7.40301733e-01 -6.92077671e-01 -6.35733654e-01 -2.37110051e-01\n",
      "   1.00000000e+00 -7.92219840e-01 -7.62066908e-01 -7.40301732e-01\n",
      "  -1.00000000e+00  2.37849094e-01  2.89954570e-01  2.80868740e-01\n",
      "   2.81075361e-01]\n",
      " [-7.85721237e-06  3.93446842e-02  2.10848765e-01  2.46247386e-01\n",
      "   2.96958330e-01 -4.60022092e-01 -9.73433178e-01 -9.88759917e-01\n",
      "  -1.00000000e+00  4.60022093e-01 -9.50003920e-01 -9.29089802e-01\n",
      "  -9.60602952e-01  9.73433178e-01  9.50003920e-01 -6.35482947e-01\n",
      "  -8.96252355e-01  9.88759917e-01  9.29089801e-01  6.35482947e-01\n",
      "  -7.92219840e-01  1.00000000e+00  9.60602952e-01  8.96252355e-01\n",
      "   7.92219840e-01 -4.17014870e-02 -4.66379523e-02  6.06337604e-03\n",
      "   6.37728044e-03]\n",
      " [ 8.24118865e-02  1.01301238e-01  2.76188993e-01  3.15453090e-01\n",
      "   3.64966483e-01 -1.95127435e-01 -8.90388605e-01 -9.49546431e-01\n",
      "  -9.60602952e-01  1.95127435e-01 -9.79915198e-01 -9.84281004e-01\n",
      "  -1.00000000e+00  8.90388605e-01  9.79915198e-01 -7.34676651e-01\n",
      "  -9.47520576e-01  9.49546431e-01  9.84281004e-01  7.34676651e-01\n",
      "  -7.62066908e-01  9.60602952e-01  1.00000000e+00  9.47520576e-01\n",
      "   7.62066909e-01  3.90180520e-02  5.39885210e-02  1.09544332e-01\n",
      "   1.10059933e-01]\n",
      " [ 1.87510072e-01  2.02663990e-01  3.53524703e-01  3.95659255e-01\n",
      "   4.44589898e-01 -1.35698427e-01 -7.70882827e-01 -8.78761351e-01\n",
      "  -8.96252355e-01  1.35698427e-01 -8.64737986e-01 -9.27654789e-01\n",
      "  -9.47520576e-01  7.70882827e-01  8.64737986e-01 -8.28636340e-01\n",
      "  -1.00000000e+00  8.78761351e-01  9.27654789e-01  8.28636339e-01\n",
      "  -7.40301732e-01  8.96252355e-01  9.47520576e-01  1.00000000e+00\n",
      "   7.40301733e-01  7.15758307e-02  9.42239066e-02  1.43834149e-01\n",
      "   1.44395177e-01]\n",
      " [-3.78074011e-01 -3.54071244e-01 -2.10033322e-01 -1.82022166e-01\n",
      "  -1.22602627e-01 -3.61057937e-01 -7.55545309e-01 -6.92077671e-01\n",
      "  -7.92219840e-01  3.61057937e-01 -7.35391158e-01 -6.35733654e-01\n",
      "  -7.62066909e-01  7.55545309e-01  7.35391158e-01 -2.37110051e-01\n",
      "  -7.40301733e-01  6.92077671e-01  6.35733654e-01  2.37110051e-01\n",
      "  -1.00000000e+00  7.92219840e-01  7.62066909e-01  7.40301733e-01\n",
      "   1.00000000e+00 -2.37849094e-01 -2.89954570e-01 -2.80868739e-01\n",
      "  -2.81075361e-01]\n",
      " [ 5.32940957e-01  5.17199082e-01  5.17031189e-01  5.12446056e-01\n",
      "   5.02684115e-01  2.71816070e-01  9.68374031e-02 -8.94767403e-03\n",
      "   4.17014870e-02 -2.71816070e-01 -1.66487045e-02 -1.11389898e-01\n",
      "  -3.90180519e-02 -9.68374031e-02  1.66487045e-02 -3.01483267e-01\n",
      "  -7.15758307e-02  8.94767401e-03  1.11389898e-01  3.01483268e-01\n",
      "   2.37849094e-01 -4.17014870e-02  3.90180520e-02  7.15758307e-02\n",
      "  -2.37849094e-01  1.00000000e+00  9.14764795e-01  7.46321821e-01\n",
      "   7.31153951e-01]\n",
      " [ 6.53646170e-01  6.33911056e-01  6.35515582e-01  6.30390444e-01\n",
      "   6.18542881e-01  3.37063914e-01  1.15618323e-01 -1.58747301e-02\n",
      "   4.66379523e-02 -3.37063914e-01 -2.60394101e-02 -1.43448906e-01\n",
      "  -5.39885210e-02 -1.15618323e-01  2.60394102e-02 -3.77598277e-01\n",
      "  -9.42239065e-02  1.58747301e-02  1.43448906e-01  3.77598277e-01\n",
      "   2.89954570e-01 -4.66379523e-02  5.39885210e-02  9.42239066e-02\n",
      "  -2.89954570e-01  9.14764795e-01  1.00000000e+00  8.84335433e-01\n",
      "   8.78815975e-01]\n",
      " [ 7.04754426e-01  6.89506036e-01  6.85171177e-01  6.82167023e-01\n",
      "   6.71357660e-01  3.28572833e-01  6.55439513e-02 -7.59868914e-02\n",
      "  -6.06337602e-03 -3.28572833e-01 -8.23694235e-02 -2.07200981e-01\n",
      "  -1.09544332e-01 -6.55439513e-02  8.23694237e-02 -4.41722899e-01\n",
      "  -1.43834149e-01  7.59868915e-02  2.07200981e-01  4.41722900e-01\n",
      "   2.80868740e-01  6.06337604e-03  1.09544332e-01  1.43834149e-01\n",
      "  -2.80868739e-01  7.46321821e-01  8.84335433e-01  1.00000000e+00\n",
      "   9.99667314e-01]\n",
      " [ 7.05609143e-01  6.90327653e-01  6.86076351e-01  6.83097252e-01\n",
      "   6.72283927e-01  3.29112315e-01  6.53827711e-02 -7.64088198e-02\n",
      "  -6.37728042e-03 -3.29112315e-01 -8.28294540e-02 -2.07872006e-01\n",
      "  -1.10059933e-01 -6.53827711e-02  8.28294542e-02 -4.42705672e-01\n",
      "  -1.44395177e-01  7.64088198e-02  2.07872006e-01  4.42705672e-01\n",
      "   2.81075361e-01  6.37728044e-03  1.10059933e-01  1.44395177e-01\n",
      "  -2.81075361e-01  7.31153951e-01  8.78815975e-01  9.99667314e-01\n",
      "   1.00000000e+00]]\n"
     ]
    }
   ],
   "source": [
    "print(normcovar)"
   ]
  },
  {
   "cell_type": "code",
   "execution_count": null,
   "metadata": {},
   "outputs": [],
   "source": [
    "DNBs = normcovar[-4:,-4:]\n",
    "DNBs.shape"
   ]
  },
  {
   "cell_type": "code",
   "execution_count": null,
   "metadata": {},
   "outputs": [],
   "source": [
    "print(DNBs)"
   ]
  },
  {
   "cell_type": "code",
   "execution_count": null,
   "metadata": {},
   "outputs": [],
   "source": [
    "channelRs = normcovar[:5,:5]\n",
    "print(channelRs)"
   ]
  },
  {
   "cell_type": "code",
   "execution_count": null,
   "metadata": {},
   "outputs": [],
   "source": [
    "BTDs =normcovar[5:-4,5:-4]\n",
    "print(BTDs)"
   ]
  },
  {
   "cell_type": "code",
   "execution_count": 18,
   "metadata": {},
   "outputs": [
    {
     "data": {
      "text/plain": [
       "[Text(0.5, 0, '0'),\n",
       " Text(2.5, 0, '2'),\n",
       " Text(4.5, 0, '4'),\n",
       " Text(6.5, 0, '6'),\n",
       " Text(8.5, 0, '8'),\n",
       " Text(10.5, 0, '10'),\n",
       " Text(12.5, 0, '12'),\n",
       " Text(14.5, 0, '14'),\n",
       " Text(16.5, 0, '16'),\n",
       " Text(18.5, 0, '18'),\n",
       " Text(20.5, 0, '20'),\n",
       " Text(22.5, 0, '22'),\n",
       " Text(24.5, 0, '24'),\n",
       " Text(26.5, 0, '26'),\n",
       " Text(28.5, 0, '28')]"
      ]
     },
     "execution_count": 18,
     "metadata": {},
     "output_type": "execute_result"
    },
    {
     "data": {
      "image/png": "[encoded data removed]",
      "text/plain": [
       "<Figure size 432x288 with 2 Axes>"
      ]
     },
     "metadata": {
      "needs_background": "light"
     },
     "output_type": "display_data"
    }
   ],
   "source": [
    "import seaborn as sns\n",
    "ax = sns.heatmap(\n",
    "    normcovar, \n",
    "    vmin=-1, vmax=1, center=0,\n",
    "    cmap=sns.diverging_palette(20, 220, n=200),\n",
    "    square=True\n",
    ")\n",
    "ax.set_xticklabels(\n",
    "    ax.get_xticklabels(),\n",
    "    rotation=45,\n",
    "    horizontalalignment='right')"
   ]
  },
  {
   "cell_type": "code",
   "execution_count": null,
   "metadata": {},
   "outputs": [],
   "source": [
    "rawcase = np.stack([case[a].flatten() for a in rawchannels])\n",
    "rawcase.shape"
   ]
  },
  {
   "cell_type": "code",
   "execution_count": null,
   "metadata": {},
   "outputs": [],
   "source": [
    "rawcovar = np.corrcoef(rawcase)\n",
    "rawcovar.shape"
   ]
  },
  {
   "cell_type": "code",
   "execution_count": null,
   "metadata": {},
   "outputs": [],
   "source": [
    "print(rawcovar)"
   ]
  },
  {
   "cell_type": "code",
   "execution_count": null,
   "metadata": {},
   "outputs": [],
   "source": [
    "sizescale = 800\n",
    "fig, ax = plt.subplots()\n",
    "im = ax.imshow(rawcovar)\n",
    "im.set_clim(-1, 1)\n",
    "ax.grid(False)\n",
    "#ax.xaxis.set(ticklabels=(rawchannels))\n",
    "#ax.yaxis.set(ticklabels=(rawchannels))\n",
    "#ax.set_ylim(2.5, -0.5)\n",
    "#for i in range(57):\n",
    " #   for j in range(57):\n",
    "  #      ax.text(j, i, covar[i, j], ha='center', va='center',\n",
    "   #             color='r')\n",
    "cbar = ax.figure.colorbar(im, ax=ax, format='% .3f')\n",
    "plt.show()\n"
   ]
  },
  {
   "cell_type": "code",
   "execution_count": null,
   "metadata": {},
   "outputs": [],
   "source": [
    "import seaborn as sns\n",
    "ax = sns.heatmap(\n",
    "    rawcovar, \n",
    "    vmin=-1, vmax=1, center=0,\n",
    "    cmap=sns.diverging_palette(20, 220, n=200),\n",
    "    square=True\n",
    ")\n",
    "ax.set_xticklabels(\n",
    "    ax.get_xticklabels(),\n",
    "    rotation=45,\n",
    "    horizontalalignment='right')"
   ]
  },
  {
   "cell_type": "code",
   "execution_count": null,
   "metadata": {},
   "outputs": [],
   "source": [
    "#now explore the DNBdata some ( ie distribution, what valeu is open ocean, etc)\n",
    "#load the 2 truths\n",
    "DNB_FMN = case['DNB_full_moon_norm']\n",
    "DNM_LFMN = case['DNB_log_full_moon_norm']"
   ]
  },
  {
   "cell_type": "code",
   "execution_count": null,
   "metadata": {},
   "outputs": [],
   "source": [
    "print(DNB_FMN.min(),DNB_FMN.max(),DNB_FMN.std())"
   ]
  },
  {
   "cell_type": "code",
   "execution_count": null,
   "metadata": {},
   "outputs": [],
   "source": [
    "DNB_FMN.shape, DNM_LFMN.shape"
   ]
  },
  {
   "cell_type": "code",
   "execution_count": null,
   "metadata": {},
   "outputs": [],
   "source": [
    "#plot histogram/pdf of data distrubution\n",
    "x = DNB_FMN.flatten()\n",
    "y = DNM_LFMN.flatten()\n",
    "xinc =0.005\n",
    "xbins = np.arange(-1, 2, xinc)\n",
    "\n",
    "hx = np.histogram(x,xbins)\n",
    "hy = np.histogram(y,xbins)\n",
    "\n",
    "plt.figure()\n",
    "\n",
    "xvals = hx[1][:-1]\n",
    "fvalsx = hx[0].astype(float)/(np.size(x)*xinc)\n",
    "fvalsy = hy[0].astype(float)/(np.size(y)*xinc)\n",
    "\n",
    "plt.plot(xvals+xinc/2,fvalsx,'r', label = 'x',linewidth=1.5)\n",
    "plt.plot(xvals+xinc/2,fvalsy,'k', label = 'y',linewidth=1.5)\n",
    "plt.xlabel('value')\n",
    "plt.ylabel('density')\n",
    "plt.legend()\n",
    "\n",
    "plt.show()\n"
   ]
  },
  {
   "cell_type": "code",
   "execution_count": 19,
   "metadata": {},
   "outputs": [
    {
     "name": "stdout",
     "output_type": "stream",
     "text": [
      "0.6722749448687522\n"
     ]
    }
   ],
   "source": [
    "#can we pull out all the sets that have DNB_LFMN values LT 0.5 \n",
    "#the rerun the coor matricies as well as data setinto ML training?\n",
    "CLOUD = case['DNB_log_full_moon_norm'].flatten() >0.5\n",
    "percent = np.count_nonzero(CLOUD)/len(CLOUD)#percent above the threshold given\n",
    "print(percent)"
   ]
  },
  {
   "cell_type": "code",
   "execution_count": 20,
   "metadata": {},
   "outputs": [],
   "source": [
    "cloudnorm = normcase[:,CLOUD]\n",
    "#cloudraw = rawcase[:,CLOUD]"
   ]
  },
  {
   "cell_type": "code",
   "execution_count": 21,
   "metadata": {},
   "outputs": [
    {
     "data": {
      "text/plain": [
       "((29, 718216784),)"
      ]
     },
     "execution_count": 21,
     "metadata": {},
     "output_type": "execute_result"
    }
   ],
   "source": [
    "cloudnorm.shape, #cloudraw.shape"
   ]
  },
  {
   "cell_type": "code",
   "execution_count": 22,
   "metadata": {},
   "outputs": [
    {
     "data": {
      "text/plain": [
       "(29, 29)"
      ]
     },
     "execution_count": 22,
     "metadata": {},
     "output_type": "execute_result"
    }
   ],
   "source": [
    "CNcovar = np.corrcoef(cloudnorm)\n",
    "CNcovar.shape"
   ]
  },
  {
   "cell_type": "code",
   "execution_count": 43,
   "metadata": {},
   "outputs": [],
   "source": [
    "NCarray = np.array(normchannels).reshape(-1,1)"
   ]
  },
  {
   "cell_type": "code",
   "execution_count": 44,
   "metadata": {},
   "outputs": [
    {
     "data": {
      "text/plain": [
       "array([['M12norm', '0.5849071427303336', '0.705609142954982',\n",
       "        '-0.12070200022464839'],\n",
       "       ['M13norm', '0.5626621138723742', '0.6903276526312446',\n",
       "        '-0.12766553875887043'],\n",
       "       ['M14norm', '0.5396462059008384', '0.6860763506211596',\n",
       "        '-0.14643014472032112'],\n",
       "       ['M15norm', '0.5294775575230785', '0.6830972520865836',\n",
       "        '-0.1536196945635051'],\n",
       "       ['M16norm', '0.509973692842277', '0.6722839271081383',\n",
       "        '-0.16231023426586133'],\n",
       "       ['BTD1213norm', '0.3091065226180912', '0.3291123146885461',\n",
       "        '-0.020005792070454942'],\n",
       "       ['BTD1214norm', '0.17489599351966897', '0.06538277111317765',\n",
       "        '0.10951322240649132'],\n",
       "       ['BTD1215norm', '0.08325549086815527', '-0.07640881979536893',\n",
       "        '0.1596643106635242'],\n",
       "       ['BTD1216norm', '0.13180597803120633', '-0.006377280418759249',\n",
       "        '0.1381832584499656'],\n",
       "       ['BTD1312norm', '-0.3091065222997835', '-0.32911231456681184',\n",
       "        '0.02000579226702831'],\n",
       "       ['BTD1314norm', '0.07740926935704896', '-0.08282945402639713',\n",
       "        '0.16023872338344608'],\n",
       "       ['BTD1315norm', '-0.012395134148176126', '-0.2078720057715463',\n",
       "        '0.19547687162337019'],\n",
       "       ['BTD1316norm', '0.05953709555083625', '-0.11005993254406747',\n",
       "        '0.16959702809490373'],\n",
       "       ['BTD1412norm', '-0.17489599352043966', '-0.06538277110148893',\n",
       "        '-0.10951322241895073'],\n",
       "       ['BTD1413norm', '-0.07740926932491737', '0.08282945420592838',\n",
       "        '-0.16023872353084576'],\n",
       "       ['BTD1415norm', '-0.22816043148615134', '-0.44270567183880183',\n",
       "        '0.2145452403526505'],\n",
       "       ['BTD1416norm', '0.02569004408941958', '-0.14439517704757704',\n",
       "        '0.17008522113699662'],\n",
       "       ['BTD1512norm', '-0.08325549082036318', '0.07640881984208012',\n",
       "        '-0.1596643106624433'],\n",
       "       ['BTD1513norm', '0.012395134299996703', '0.20787200594914457',\n",
       "        '-0.19547687164914787'],\n",
       "       ['BTD1514norm', '0.22816043168417427', '0.4427056721348155',\n",
       "        '-0.21454524045064122'],\n",
       "       ['BTD1516norm', '0.3223530996049939', '0.2810753610770889',\n",
       "        '0.041277738527905006'],\n",
       "       ['BTD1612norm', '-0.13180597804930144', '0.006377280440129467',\n",
       "        '-0.13818325848943092'],\n",
       "       ['BTD1613norm', '-0.05953709549015937', '0.1100599326187178',\n",
       "        '-0.16959702810887717'],\n",
       "       ['BTD1614norm', '-0.025690043972761503', '0.14439517712982003',\n",
       "        '-0.17008522110258154'],\n",
       "       ['BTD1615norm', '-0.3223530999311109', '-0.28107536084053664',\n",
       "        '-0.04127773909057425'],\n",
       "       ['DNB_norm', '0.7211363223849466', '0.7311539512597309',\n",
       "        '-0.010017628874784301'],\n",
       "       ['DNB_full_moon_norm', '0.909660107598335', '0.8788159752559773',\n",
       "        '0.030844132342357722'],\n",
       "       ['DNB_log_norm', '0.998807975981456', '0.9996673139730001',\n",
       "        '-0.0008593379915441401'],\n",
       "       ['DNB_log_full_moon_norm', '1.0', '0.9999999999999998',\n",
       "        '2.220446049250313e-16']], dtype='<U32')"
      ]
     },
     "execution_count": 44,
     "metadata": {},
     "output_type": "execute_result"
    }
   ],
   "source": [
    "np.set_printoptions(precision=3, suppress = True)\n",
    "cn = CNcovar[:,-1].reshape(-1,1)\n",
    "no = normcovar[:,-1].reshape(-1,1)\n",
    "x = np.hstack((NCarray, cn,no, cn-no))\n",
    "x"
   ]
  },
  {
   "cell_type": "code",
   "execution_count": 23,
   "metadata": {},
   "outputs": [
    {
     "data": {
      "text/plain": [
       "[Text(0.5, 0, '0'),\n",
       " Text(2.5, 0, '2'),\n",
       " Text(4.5, 0, '4'),\n",
       " Text(6.5, 0, '6'),\n",
       " Text(8.5, 0, '8'),\n",
       " Text(10.5, 0, '10'),\n",
       " Text(12.5, 0, '12'),\n",
       " Text(14.5, 0, '14'),\n",
       " Text(16.5, 0, '16'),\n",
       " Text(18.5, 0, '18'),\n",
       " Text(20.5, 0, '20'),\n",
       " Text(22.5, 0, '22'),\n",
       " Text(24.5, 0, '24'),\n",
       " Text(26.5, 0, '26'),\n",
       " Text(28.5, 0, '28')]"
      ]
     },
     "execution_count": 23,
     "metadata": {},
     "output_type": "execute_result"
    },
    {
     "data": {
      "image/png": "[encoded data removed]",
      "text/plain": [
       "<Figure size 432x288 with 2 Axes>"
      ]
     },
     "metadata": {
      "needs_background": "light"
     },
     "output_type": "display_data"
    }
   ],
   "source": [
    "import seaborn as sns\n",
    "ax = sns.heatmap(\n",
    "    CNcovar, \n",
    "    vmin=-1, vmax=1, center=0,\n",
    "    cmap=sns.diverging_palette(20, 220, n=200),\n",
    "    square=True\n",
    ")\n",
    "ax.set_xticklabels(\n",
    "    ax.get_xticklabels(),\n",
    "    rotation=45,\n",
    "    horizontalalignment='right')"
   ]
  },
  {
   "cell_type": "code",
   "execution_count": 25,
   "metadata": {},
   "outputs": [],
   "source": [
    "diff=normcovar-CNcovar"
   ]
  },
  {
   "cell_type": "code",
   "execution_count": 26,
   "metadata": {},
   "outputs": [
    {
     "data": {
      "text/plain": [
       "(29, 29)"
      ]
     },
     "execution_count": 26,
     "metadata": {},
     "output_type": "execute_result"
    }
   ],
   "source": [
    "diff.shape"
   ]
  },
  {
   "cell_type": "code",
   "execution_count": 27,
   "metadata": {},
   "outputs": [
    {
     "data": {
      "text/plain": [
       "[Text(0.5, 0, '0'),\n",
       " Text(2.5, 0, '2'),\n",
       " Text(4.5, 0, '4'),\n",
       " Text(6.5, 0, '6'),\n",
       " Text(8.5, 0, '8'),\n",
       " Text(10.5, 0, '10'),\n",
       " Text(12.5, 0, '12'),\n",
       " Text(14.5, 0, '14'),\n",
       " Text(16.5, 0, '16'),\n",
       " Text(18.5, 0, '18'),\n",
       " Text(20.5, 0, '20'),\n",
       " Text(22.5, 0, '22'),\n",
       " Text(24.5, 0, '24'),\n",
       " Text(26.5, 0, '26'),\n",
       " Text(28.5, 0, '28')]"
      ]
     },
     "execution_count": 27,
     "metadata": {},
     "output_type": "execute_result"
    },
    {
     "data": {
      "image/png": "[encoded data removed]",
      "text/plain": [
       "<Figure size 432x288 with 2 Axes>"
      ]
     },
     "metadata": {
      "needs_background": "light"
     },
     "output_type": "display_data"
    }
   ],
   "source": [
    "ax = sns.heatmap(\n",
    "    diff, \n",
    "    vmin=-1, vmax=1, center=0,\n",
    "    cmap=sns.diverging_palette(20, 220, n=200),\n",
    "    square=True\n",
    ")\n",
    "ax.set_xticklabels(\n",
    "    ax.get_xticklabels(),\n",
    "    rotation=45,\n",
    "    horizontalalignment='right')"
   ]
  },
  {
   "cell_type": "code",
   "execution_count": null,
   "metadata": {},
   "outputs": [],
   "source": []
  }
 ],
 "metadata": {
  "kernelspec": {
   "display_name": "Python 3",
   "language": "python",
   "name": "python3"
  },
  "language_info": {
   "codemirror_mode": {
    "name": "ipython",
    "version": 3
   },
   "file_extension": ".py",
   "mimetype": "text/x-python",
   "name": "python",
   "nbconvert_exporter": "python",
   "pygments_lexer": "ipython3",
   "version": "3.8.5"
  }
 },
 "nbformat": 4,
 "nbformat_minor": 4
}
