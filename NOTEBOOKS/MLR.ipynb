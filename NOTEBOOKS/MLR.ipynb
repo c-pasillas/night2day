{
 "cells": [
  {
   "cell_type": "code",
   "execution_count": 7,
   "metadata": {},
   "outputs": [],
   "source": [
    "# Pandas is used for data manipulation\n",
    "import pandas as pd\n",
    "\n",
    "# Use numpy to convert to arrays\n",
    "import numpy as np\n",
    "\n",
    "# Using Skicit-learn to split data into training and testing sets\n",
    "from sklearn.model_selection import train_test_split\n",
    "\n",
    "# Time formatter\n",
    "import datetime\n",
    "\n",
    "import matplotlib.pyplot as plt\n",
    "\n",
    "import tensorflow as tf\n",
    "from tensorflow.keras.layers import Dense, Activation\n",
    "from tensorflow.keras import regularizers\n",
    "from tensorflow.keras import metrics\n",
    "from tensorflow.keras import optimizers\n",
    "from tensorflow.keras.models import Sequential\n",
    "\n",
    "\n"
   ]
  },
  {
   "cell_type": "code",
   "execution_count": null,
   "metadata": {},
   "outputs": [],
   "source": [
    "case = np.load('/zdata2/cpasilla/MARCH2019_ALL/ML_INPUT/DNB_full_moon_norm-12_predictors/data.npz')\n",
    "case.files # case['Xdata_train'].shape, case['Xdata_test'].shape"
   ]
  },
  {
   "cell_type": "code",
   "execution_count": 16,
   "metadata": {},
   "outputs": [],
   "source": [
    "Xtrain = case[\"Xdata_train\"][:10,:,:,0].flatten()\n",
    "Xtest = case['Xdata_test'][:2,:,:,0].flatten()\n",
    "Ytrain = case['Ydata_train'][:10].flatten()\n",
    "Ytest = case[\"Ydata_test\"][:2].flatten()"
   ]
  },
  {
   "cell_type": "code",
   "execution_count": 17,
   "metadata": {},
   "outputs": [
    {
     "data": {
      "image/png": "[encoded data removed]",
      "text/plain": [
       "<Figure size 432x288 with 1 Axes>"
      ]
     },
     "metadata": {
      "needs_background": "light"
     },
     "output_type": "display_data"
    }
   ],
   "source": [
    "plt.scatter(Xtrain, Ytrain, color='cornflowerblue', label='training data')\n",
    "plt.scatter(Xtest, Ytest, color='fuchsia', label = 'testing data')\n",
    "plt.xlabel('X value')\n",
    "plt.ylabel('Y value')\n",
    "plt.legend()\n",
    "plt.show()"
   ]
  },
  {
   "cell_type": "code",
   "execution_count": 11,
   "metadata": {},
   "outputs": [],
   "source": [
    "# define functional fits\n",
    "def my_fit(m,c,x):\n",
    "     # m is the slope of the line\n",
    "     # c is the y-intercept\n",
    "     # x is the values to evaluate\n",
    "     # output: y, the evaluated values\n",
    "    y = m*x + c\n",
    "    return y\n",
    "\n",
    "def my_gradLoss(xtrain,ytrain,ypred):\n",
    "    n = float(len(xtrain))\n",
    "    gradLoss_m = 2/n * sum(xtrain * (ypred-ytrain)) #derivative wrt m\n",
    "    gradLoss_c = 2/n * sum((ypred-ytrain)) #derivative wrt c\n",
    "    \n",
    "    return gradLoss_m, gradLoss_c"
   ]
  },
  {
   "cell_type": "code",
   "execution_count": 18,
   "metadata": {},
   "outputs": [
    {
     "name": "stdout",
     "output_type": "stream",
     "text": [
      "done training\n",
      "\n",
      "  slope (m)             y-int (c)\n",
      "----------------------------------\n",
      "0.33278                 0.22054\n"
     ]
    }
   ],
   "source": [
    "# Building the model\n",
    "m = np.random.uniform()\n",
    "c = np.random.uniform()\n",
    "\n",
    "L = 0.001                                                         # MODIFY: the learning rate - the size of the \"step\" to take down gradient\n",
    "epochs = 400                                                     # MODIFY: the number of iterations to run over the entire training set \n",
    "\n",
    "errorHistory = np.empty((epochs,))\n",
    "# Performing Gradient Descent \n",
    "for i in range(epochs): \n",
    "\n",
    "    Y_pred = my_fit(m,c,Xtrain)                                    # the current predicted value of y\n",
    "    gradLoss_m, gradLoss_c = my_gradLoss(Xtrain, Ytrain, Y_pred)   # compute the direction of down gradient of the loss function with respect to the coefficients\n",
    "    m = m - L * gradLoss_m                                         # update the slope m\n",
    "    c = c - L * gradLoss_c                                         # update the y-intercept c\n",
    "    \n",
    "    errorHistory[i] = 1/float(len(Ytrain))*np.sum((Ytrain - Y_pred)**2)\n",
    "    if[i]\n",
    "print('done training')    \n",
    "print('')\n",
    "print('  slope (m)             y-int (c)')\n",
    "print('----------------------------------')\n",
    "print (str(np.around(m,5)) + '                 ' + str(np.around(c,5)))\n",
    "\n",
    "# Making predictions - FINAL\n",
    "Y_pred = my_fit(m,c,Xtrain)\n",
    "Y_predTest = my_fit(m,c,Xtest)"
   ]
  },
  {
   "cell_type": "code",
   "execution_count": 20,
   "metadata": {},
   "outputs": [
    {
     "ename": "NameError",
     "evalue": "name 'stats' is not defined",
     "output_type": "error",
     "traceback": [
      "\u001b[0;31m---------------------------------------------------------------------------\u001b[0m",
      "\u001b[0;31mNameError\u001b[0m                                 Traceback (most recent call last)",
      "\u001b[0;32m<ipython-input-20-9a76c4704a0e>\u001b[0m in \u001b[0;36m<module>\u001b[0;34m\u001b[0m\n\u001b[1;32m      7\u001b[0m \u001b[0;34m\u001b[0m\u001b[0m\n\u001b[1;32m      8\u001b[0m \u001b[0;34m\u001b[0m\u001b[0m\n\u001b[0;32m----> 9\u001b[0;31m \u001b[0mslope\u001b[0m\u001b[0;34m,\u001b[0m \u001b[0mintercept\u001b[0m\u001b[0;34m,\u001b[0m \u001b[0mr_value\u001b[0m\u001b[0;34m,\u001b[0m \u001b[0mp_value\u001b[0m\u001b[0;34m,\u001b[0m \u001b[0mstd_err\u001b[0m \u001b[0;34m=\u001b[0m \u001b[0mstats\u001b[0m\u001b[0;34m.\u001b[0m\u001b[0mlinregress\u001b[0m\u001b[0;34m(\u001b[0m\u001b[0mnp\u001b[0m\u001b[0;34m.\u001b[0m\u001b[0msqueeze\u001b[0m\u001b[0;34m(\u001b[0m\u001b[0mX\u001b[0m\u001b[0;34m)\u001b[0m\u001b[0;34m,\u001b[0m\u001b[0mnp\u001b[0m\u001b[0;34m.\u001b[0m\u001b[0msqueeze\u001b[0m\u001b[0;34m(\u001b[0m\u001b[0mY\u001b[0m\u001b[0;34m)\u001b[0m\u001b[0;34m)\u001b[0m\u001b[0;34m\u001b[0m\u001b[0;34m\u001b[0m\u001b[0m\n\u001b[0m\u001b[1;32m     10\u001b[0m \u001b[0mplt\u001b[0m\u001b[0;34m.\u001b[0m\u001b[0mplot\u001b[0m\u001b[0;34m(\u001b[0m\u001b[0mX\u001b[0m\u001b[0;34m,\u001b[0m\u001b[0mintercept\u001b[0m\u001b[0;34m+\u001b[0m\u001b[0mX\u001b[0m\u001b[0;34m*\u001b[0m\u001b[0mslope\u001b[0m\u001b[0;34m,\u001b[0m\u001b[0;34m'--'\u001b[0m\u001b[0;34m,\u001b[0m\u001b[0mcolor\u001b[0m \u001b[0;34m=\u001b[0m \u001b[0;34m'red'\u001b[0m\u001b[0;34m,\u001b[0m \u001b[0mlabel\u001b[0m \u001b[0;34m=\u001b[0m \u001b[0;34m'LSQ: x vs y'\u001b[0m\u001b[0;34m,\u001b[0m \u001b[0mlinewidth\u001b[0m\u001b[0;34m=\u001b[0m\u001b[0;36m1\u001b[0m\u001b[0;34m)\u001b[0m\u001b[0;34m\u001b[0m\u001b[0;34m\u001b[0m\u001b[0m\n\u001b[1;32m     11\u001b[0m \u001b[0;34m\u001b[0m\u001b[0m\n",
      "\u001b[0;31mNameError\u001b[0m: name 'stats' is not defined"
     ]
    },
    {
     "data": {
      "image/png": "[encoded data removed]",
      "text/plain": [
       "<Figure size 432x288 with 1 Axes>"
      ]
     },
     "metadata": {
      "needs_background": "light"
     },
     "output_type": "display_data"
    }
   ],
   "source": [
    "plt.figure()\n",
    "#plt.scatter(Xtrain, Ytrain, color='black', label = 'data') \n",
    "plt.plot(Xtrain, Y_pred, 'x', color='cornflowerblue', label = 'training data') \n",
    "plt.plot(Xtest, Y_predTest, 'x', color='fuchsia', label= 'testing data') \n",
    "plt.plot(Xtrain, Y_pred,'-k', label='fit by ANN', linewidth=3) # regression line\n",
    "\n",
    "\n",
    "\n",
    "slope, intercept, r_value, p_value, std_err = stats.linregress(np.squeeze(X),np.squeeze(Y))\n",
    "plt.plot(X,intercept+X*slope,'--',color = 'red', label = 'LSQ: x vs y', linewidth=1)\n",
    "\n",
    "plt.legend()\n",
    "plt.show()\n",
    "\n",
    " #print the error history\n",
    "plt.figure()\n",
    "plt.plot(np.arange(0,len(errorHistory)),errorHistory,'.-')\n",
    "plt.title('loss function')\n",
    "plt.ylabel('loss')\n",
    "plt.xlabel('epoch')\n",
    "plt.show()"
   ]
  },
  {
   "cell_type": "code",
   "execution_count": null,
   "metadata": {},
   "outputs": [],
   "source": []
  }
 ],
 "metadata": {
  "kernelspec": {
   "display_name": "Python 3",
   "language": "python",
   "name": "python3"
  },
  "language_info": {
   "codemirror_mode": {
    "name": "ipython",
    "version": 3
   },
   "file_extension": ".py",
   "mimetype": "text/x-python",
   "name": "python",
   "nbconvert_exporter": "python",
   "pygments_lexer": "ipython3",
   "version": "3.8.5"
  }
 },
 "nbformat": 4,
 "nbformat_minor": 4
}
