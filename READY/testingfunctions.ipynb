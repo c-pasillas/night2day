{
 "cells": [
  {
   "cell_type": "code",
   "execution_count": 4,
   "metadata": {},
   "outputs": [
    {
     "ename": "ModuleNotFoundError",
     "evalue": "No module named 'FNN_test'",
     "output_type": "error",
     "traceback": [
      "\u001b[0;31m---------------------------------------------------------------------------\u001b[0m",
      "\u001b[0;31mModuleNotFoundError\u001b[0m                       Traceback (most recent call last)",
      "\u001b[0;32m<ipython-input-4-95f8f604d0bb>\u001b[0m in \u001b[0;36m<module>\u001b[0;34m\u001b[0m\n\u001b[1;32m      1\u001b[0m \u001b[0;32mimport\u001b[0m \u001b[0mnumpy\u001b[0m \u001b[0;32mas\u001b[0m \u001b[0mnp\u001b[0m\u001b[0;34m\u001b[0m\u001b[0;34m\u001b[0m\u001b[0m\n\u001b[0;32m----> 2\u001b[0;31m \u001b[0;32mimport\u001b[0m \u001b[0mFNN_test\u001b[0m\u001b[0;34m\u001b[0m\u001b[0;34m\u001b[0m\u001b[0m\n\u001b[0m\u001b[1;32m      3\u001b[0m \u001b[0;32mimport\u001b[0m \u001b[0mpatch\u001b[0m\u001b[0;34m\u001b[0m\u001b[0;34m\u001b[0m\u001b[0m\n",
      "\u001b[0;31mModuleNotFoundError\u001b[0m: No module named 'FNN_test'"
     ]
    }
   ],
   "source": [
    "import numpy as np\n",
    "import FNN_train\n",
    "import FNN_"
   ]
  },
  {
   "cell_type": "code",
   "execution_count": 3,
   "metadata": {},
   "outputs": [
    {
     "data": {
      "text/plain": [
       "['PATCH_ID',\n",
       " 'samples',\n",
       " 'channels',\n",
       " 'latitude',\n",
       " 'longitude',\n",
       " 'DNB',\n",
       " 'M12',\n",
       " 'M13',\n",
       " 'M14',\n",
       " 'M15',\n",
       " 'M16',\n",
       " 'BTD1213norm',\n",
       " 'BTD1214norm',\n",
       " 'BTD1215norm',\n",
       " 'BTD1216norm',\n",
       " 'BTD1314norm',\n",
       " 'BTD1315norm',\n",
       " 'BTD1316norm',\n",
       " 'BTD1415norm',\n",
       " 'BTD1416norm',\n",
       " 'BTD1516norm',\n",
       " 'M12norm',\n",
       " 'M13norm',\n",
       " 'M14norm',\n",
       " 'M15norm',\n",
       " 'M16norm',\n",
       " 'DNB_FMN',\n",
       " 'DNB_log_FMN']"
      ]
     },
     "execution_count": 3,
     "metadata": {},
     "output_type": "execute_result"
    }
   ],
   "source": [
    "#case = np.load(\"../../OLDWORK/full_case.npz\")\n",
    "#case = np.load('TESTsmall.npz')\n",
    "#case = np.load(\"TESTsmall_PATCHED_noNAN.npz\")\n",
    "#case = np.load(\"TESTsmall_PATCHED_noNAN_BTD.npz\")\n",
    "#case = np.load(\"TESTsmall_PATCHED_noNAN_BTD_Mbandnorm.npz\")\n",
    "#case = np.load(\"TESTsmall_PATCHED_noNAN_BTD_Mbandnorm_DNBnorm.npz\")\n",
    "#case = np.load(\"TESTsmall_PATCHED_noNAN_BTD_Mbandnorm_DNBnorm_MODEL2ready.npz\")\n",
    "#case = np.load('TESTsmall_MODELready.npz')\n",
    "case= np.load('../../OLDWORK/TCS_final.npz')\n",
    "case.files"
   ]
  },
  {
   "cell_type": "code",
   "execution_count": null,
   "metadata": {},
   "outputs": [],
   "source": [
    "case['Predictors'], case['Predictand']"
   ]
  },
  {
   "cell_type": "code",
   "execution_count": null,
   "metadata": {},
   "outputs": [],
   "source": [
    "case['TAND'].shape, case['TORS'].shape, case['TAND_train'].shape, case['TAND_test'].shape, case['TORS_train'].shape,case['TORS_test'].shape,  "
   ]
  },
  {
   "cell_type": "code",
   "execution_count": null,
   "metadata": {},
   "outputs": [],
   "source": [
    "patched['DNB'].shape"
   ]
  },
  {
   "cell_type": "code",
   "execution_count": null,
   "metadata": {},
   "outputs": [],
   "source": [
    "#convert from the 3D dict of arrays to a 4D array\n",
    "patch_4D = np.stack([patched[label] for label in patched['channels']], axis = -1)"
   ]
  },
  {
   "cell_type": "code",
   "execution_count": null,
   "metadata": {},
   "outputs": [],
   "source": [
    "patch_4D.shape\n"
   ]
  },
  {
   "cell_type": "code",
   "execution_count": null,
   "metadata": {},
   "outputs": [],
   "source": [
    "patched.keys()"
   ]
  },
  {
   "cell_type": "code",
   "execution_count": null,
   "metadata": {},
   "outputs": [],
   "source": [
    "patched[\"PATCH_ID\"]"
   ]
  },
  {
   "cell_type": "code",
   "execution_count": null,
   "metadata": {},
   "outputs": [],
   "source": [
    "2 +2"
   ]
  },
  {
   "cell_type": "code",
   "execution_count": null,
   "metadata": {},
   "outputs": [],
   "source": [
    "patched['DNB'][2]"
   ]
  },
  {
   "cell_type": "code",
   "execution_count": null,
   "metadata": {},
   "outputs": [],
   "source": [
    "case['DNB'][0,0:256,512:512+256]"
   ]
  },
  {
   "cell_type": "code",
   "execution_count": null,
   "metadata": {},
   "outputs": [],
   "source": []
  }
 ],
 "metadata": {
  "kernelspec": {
   "display_name": "Python 3",
   "language": "python",
   "name": "python3"
  },
  "language_info": {
   "codemirror_mode": {
    "name": "ipython",
    "version": 3
   },
   "file_extension": ".py",
   "mimetype": "text/x-python",
   "name": "python",
   "nbconvert_exporter": "python",
   "pygments_lexer": "ipython3",
   "version": "3.8.5"
  }
 },
 "nbformat": 4,
 "nbformat_minor": 4
}
