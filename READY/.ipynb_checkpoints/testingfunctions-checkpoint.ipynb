{
 "cells": [
  {
   "cell_type": "code",
   "execution_count": 1,
   "metadata": {},
   "outputs": [],
   "source": [
    "import numpy as np\n",
    "import aoi\n",
    "import patch"
   ]
  },
  {
   "cell_type": "code",
   "execution_count": 36,
   "metadata": {},
   "outputs": [
    {
     "data": {
      "text/plain": [
       "['TORS', 'TAND', 'Predictors', 'Predictand']"
      ]
     },
     "execution_count": 36,
     "metadata": {},
     "output_type": "execute_result"
    }
   ],
   "source": [
    "#case = np.load(\"../../OLDWORK/full_case.npz\")\n",
    "#case = np.load('TESTsmall.npz')\n",
    "#case = np.load(\"TESTsmall_PATCHED_noNAN.npz\")\n",
    "#case = np.load(\"TESTsmall_PATCHED_noNAN_BTD.npz\")\n",
    "#case = np.load(\"TESTsmall_PATCHED_noNAN_BTD_Mbandnorm.npz\")\n",
    "#case = np.load(\"TESTsmall_PATCHED_noNAN_BTD_Mbandnorm_DNBnorm.npz\")\n",
    "#case = np.load(\"TESTsmall_PATCHED_noNAN_BTD_Mbandnorm_DNBnorm_MODEL2ready.npz\")\n",
    "case = np.load('TESTsmall_MODELready.npz')\n",
    "case.files"
   ]
  },
  {
   "cell_type": "code",
   "execution_count": 37,
   "metadata": {},
   "outputs": [
    {
     "data": {
      "text/plain": [
       "(array(['BTD1213norm', 'BTD1214norm', 'BTD1415norm', 'BTD1516norm',\n",
       "        'M12norm', 'M13norm', 'M14norm', 'M15norm', 'M16norm'],\n",
       "       dtype='<U11'),\n",
       " array('DNB_full_moon_norm', dtype='<U18'))"
      ]
     },
     "execution_count": 37,
     "metadata": {},
     "output_type": "execute_result"
    }
   ],
   "source": [
    "case['Predictors'], case['Predictand']"
   ]
  },
  {
   "cell_type": "code",
   "execution_count": null,
   "metadata": {},
   "outputs": [],
   "source": [
    "case['TAND'].shape, case['TORS'].shape, case['TAND_train'].shape, case['TAND_test'].shape, case['TORS_train'].shape,case['TORS_test'].shape,  "
   ]
  },
  {
   "cell_type": "code",
   "execution_count": null,
   "metadata": {},
   "outputs": [],
   "source": [
    "patched['DNB'].shape"
   ]
  },
  {
   "cell_type": "code",
   "execution_count": null,
   "metadata": {},
   "outputs": [],
   "source": [
    "#convert from the 3D dict of arrays to a 4D array\n",
    "patch_4D = np.stack([patched[label] for label in patched['channels']], axis = -1)"
   ]
  },
  {
   "cell_type": "code",
   "execution_count": null,
   "metadata": {},
   "outputs": [],
   "source": [
    "patch_4D.shape\n"
   ]
  },
  {
   "cell_type": "code",
   "execution_count": null,
   "metadata": {},
   "outputs": [],
   "source": [
    "patched.keys()"
   ]
  },
  {
   "cell_type": "code",
   "execution_count": null,
   "metadata": {},
   "outputs": [],
   "source": [
    "patched[\"PATCH_ID\"]"
   ]
  },
  {
   "cell_type": "code",
   "execution_count": null,
   "metadata": {},
   "outputs": [],
   "source": [
    "2 +2"
   ]
  },
  {
   "cell_type": "code",
   "execution_count": null,
   "metadata": {},
   "outputs": [],
   "source": [
    "patched['DNB'][2]"
   ]
  },
  {
   "cell_type": "code",
   "execution_count": null,
   "metadata": {},
   "outputs": [],
   "source": [
    "case['DNB'][0,0:256,512:512+256]"
   ]
  },
  {
   "cell_type": "code",
   "execution_count": null,
   "metadata": {},
   "outputs": [],
   "source": []
  }
 ],
 "metadata": {
  "kernelspec": {
   "display_name": "Python 3",
   "language": "python",
   "name": "python3"
  },
  "language_info": {
   "codemirror_mode": {
    "name": "ipython",
    "version": 3
   },
   "file_extension": ".py",
   "mimetype": "text/x-python",
   "name": "python",
   "nbconvert_exporter": "python",
   "pygments_lexer": "ipython3",
   "version": "3.8.5"
  }
 },
 "nbformat": 4,
 "nbformat_minor": 4
}
