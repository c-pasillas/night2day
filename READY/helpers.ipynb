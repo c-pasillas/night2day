{
 "cells": [
  {
   "cell_type": "code",
   "execution_count": null,
   "metadata": {},
   "outputs": [],
   "source": [
    "def count_nan(array):\n",
    "    return np.sum(np.isnan(array))\n",
    "    \n",
    "def is_all_nan(array):\n",
    "    return all(np.isnan(array))\n",
    "\n",
    "def find_nan_row(array):\n",
    "    for i,row in enumerate(array):\n",
    "        if is_all_nan(row):\n",
    "            for j in range (i+1,len(array)):\n",
    "                if not is_all_nan(array[j]):\n",
    "                    return(i-1, j)\n",
    "    return(0,0)     \n",
    "    \n",
    "def fill_in_nan_row(array, start, stop):\n",
    "    a=(stop-start)//2\n",
    "    for i in range(start + 1, start + a):\n",
    "        array[i,:]=array[start,:]\n",
    "    for i in range(start + a, stop):\n",
    "        array[i,:]=array[stop,:]\n",
    "            \n",
    "def fill_in_nan_array(case, channels):\n",
    "    log.info(f'filling in nan arrays for {channels}')\n",
    "    for channel in channels:\n",
    "        log.info(f'filling in nan arrays for {channel}')\n",
    "        images = case[channel]   \n",
    "        for i,image in enumerate(images):\n",
    "            log.info(f'filling in image {i+1} / {len(images)}')\n",
    "            start,stop = find_nan_row(image)\n",
    "            if start != 0:\n",
    "                fill_in_nan_row(image, start,stop)\n",
    "        images[np.isnan(images)] = np.nanmean(images)\n"
   ]
  }
 ],
 "metadata": {
  "kernelspec": {
   "display_name": "Python 3",
   "language": "python",
   "name": "python3"
  },
  "language_info": {
   "codemirror_mode": {
    "name": "ipython",
    "version": 3
   },
   "file_extension": ".py",
   "mimetype": "text/x-python",
   "name": "python",
   "nbconvert_exporter": "python",
   "pygments_lexer": "ipython3",
   "version": "3.8.5"
  }
 },
 "nbformat": 4,
 "nbformat_minor": 4
}
